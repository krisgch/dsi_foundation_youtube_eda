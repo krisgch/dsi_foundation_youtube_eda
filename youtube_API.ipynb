{
 "cells": [
  {
   "cell_type": "markdown",
   "id": "22251214",
   "metadata": {},
   "source": [
    "# Youtube API (for DSI Project - Youtube EDA)"
   ]
  },
  {
   "cell_type": "markdown",
   "id": "de524b0c",
   "metadata": {},
   "source": [
    "Youtube API https://developers.google.com/youtube/v3\n",
    "\n",
    "Youtube API tutorial by https://www.youtube.com/watch?v=D56_Cx36oGY&t=457s&ab_channel=ThuVudataanalytics"
   ]
  },
  {
   "cell_type": "markdown",
   "id": "33d3ea26-943a-4e9e-9a3c-1b4428b92a6a",
   "metadata": {},
   "source": [
    "## Importing libraries and setting api parameters"
   ]
  },
  {
   "cell_type": "code",
   "execution_count": 1,
   "id": "913f9d87-e8b6-454d-b5ee-87a27c837ec4",
   "metadata": {},
   "outputs": [],
   "source": [
    "from googleapiclient.discovery import build\n",
    "import pandas as pd\n",
    "from IPython.display import JSON"
   ]
  },
  {
   "cell_type": "code",
   "execution_count": 2,
   "id": "e7839afa-35ab-4c8a-b45f-912f7e351750",
   "metadata": {},
   "outputs": [],
   "source": [
    "api_key = 'xxxxxxxxxxxxxxxxxxxxxxxxxxxxxxx'\n",
    "api_service_name = \"youtube\"\n",
    "api_version = \"v3\"\n",
    "youtube = build(api_service_name, api_version, developerKey=api_key)"
   ]
  },
  {
   "cell_type": "markdown",
   "id": "90c69778-865c-4f54-8566-5abcf099b1c3",
   "metadata": {},
   "source": [
    "## List of selected channel ID's"
   ]
  },
  {
   "cell_type": "code",
   "execution_count": 3,
   "id": "a7b6f257-fd4b-4bea-ab61-7d7b50661068",
   "metadata": {},
   "outputs": [],
   "source": [
    "channel_ids=[\"UCSPfJ89aYsRhpDSnZ0vaFCg\", #PointyFloppy\n",
    "             \"UCULyOKD5Y9QTKFDikg2UDgw\",#Mccan Agility\n",
    "             \"UCC17PDLl8y1dP2BRV5vuseg\", #Dogs That - Susan Garett\n",
    "             \"UCqw_HGVtWKcd-owWODwcQsg\", #Fanny Gott\n",
    "             \"UCrz5NqpcLxpiy1Wm_ksEV3g\", #AbsoluteDog\n",
    "             \"UCMF2E-huI3T7meqJBU-olZg\", #OneMindDogs\n",
    "             \"UCxXnIktVdXrSFCE8u1D-26w\", #Iwona Golab\n",
    "             \"UCZzFRKsgVMhGTxffpzgTJlQ\", #Zak George\n",
    "             \"UC-qnqaajTk6bfs3UZuue6IQ\", #Kikopup\n",
    "             \"UCEaf-PDONb_nhyNRmVw9_nA\", #Peak Performer\n",
    "             \"UCxsOQBtCjUhYS-j8VYt4KFQ\", #Agile Dog Training\n",
    "             \"UCwLs3Ldbl1Ox-fvupUq7ipA\", #Jenny Damm\n",
    "             \"UCmLiE85jsHD7tSsfGUoFd1A\", #Teresa Kralova\n",
    "             \"UCortXxJdZYbHCrOa3nddr6g\", #Larry Krohn\n",
    "             \"UCGBhmRCsK-hdGyKUP-K02zw\", #Peter Caine Dog Training\n",
    "             \"UC6vdCX3-G6oDGajvQFreLLA\", #Stonnie Dennis\n",
    "             \"UCRyHBkIJ90SZNRyq1iVda5g\", #Training Positive\n",
    "             \"UC5QwYlOxcT1higtcJVGzCCg\", #Mccan Dog Training\n",
    "             \"UC6z0E8nSfCvelwA3bon_phg\", #Will Atherton Canine Training\n",
    "             \"UCL67xKDkCjEjIC0O0M51MJw\", #Ogilvie Dogs\n",
    "             \"UC4szPGNKGADcR2X_TNp1l7g\", #Fenrir BC\n",
    "             \"UCDMdcpyb3Hp3bQCIIv8HBLQ\", #Fenrir Canine Show\n",
    "             \"UCuOmWJkaAAgP2gMgiLvRSIg\", #Beckman's Dog Training\n",
    "             \"UCsthsKj5MJ7zPvOtncW8_6w\", #The Canine Coach Dog Training\n",
    "             \"UCbupaU5Pekkp-vz681zGPEw\", #Bright Dog Academy Training\n",
    "             \"UCqiW2BB9Aed5ITI__nTLPFQ\", #Saro Dog Training\n",
    "             \"UC9K_VHBK7r5FyXiJYIfgLNA\", #Sarah Walsh\n",
    "             \"UCgyXYNBsex79zG-uV4upHbw\", #My Dog Training Spot\n",
    "             \"UCLL9mXGZIRLcSpZiLBxRT0Q\", #Rayvon Dog Training\n",
    "             \"UCbwQj676SdnAzTRggTQwJVw\", #Andy Krueger Dog Training\n",
    "            ]"
   ]
  },
  {
   "cell_type": "markdown",
   "id": "6c3c0b3a-2f1f-4098-b43b-e797fa3e7700",
   "metadata": {},
   "source": [
    "## Creatings API functions"
   ]
  },
  {
   "cell_type": "markdown",
   "id": "5866c02f-df30-4cd8-980b-ceb399bfd76c",
   "metadata": {},
   "source": [
    "#### Get channel stats"
   ]
  },
  {
   "cell_type": "code",
   "execution_count": 4,
   "id": "c7a45253-1c82-41fb-89ee-2352b97b7558",
   "metadata": {
    "tags": []
   },
   "outputs": [],
   "source": [
    "def get_channel_stats(youtube,channel_ids):\n",
    "    \"\"\"\n",
    "    Gets channel stats and upload playlist id's from channel_id's\n",
    "\n",
    "    Parameters\n",
    "    ----------\n",
    "    youtube : google api build instance\n",
    "        build function instance with setup parameters (from googleapiclient.discovery)\n",
    "    channel_ids : str or list of str\n",
    "        channel id or list of channel ids from youtube\n",
    "\n",
    "    Returns\n",
    "    -------\n",
    "    DataFrame\n",
    "        data frame of channel stats including : title, description, country, publishedAt, viewCount, subscribersCount,\n",
    "        vieoCount, uploads\n",
    "        uploads = upload playlist id that we will need to extract all videos in this channel\n",
    "    \"\"\"\n",
    "    \n",
    "    request = youtube.channels().list(part=\"snippet,contentDetails,statistics\", id=','.join(channel_ids))\n",
    "    response = request.execute()\n",
    "    \n",
    "    all_data = []\n",
    "    \n",
    "    for i in range(len(response['items'])):\n",
    "        try:\n",
    "            data = dict(channel_title = response['items'][i]['snippet']['title'],\n",
    "                        channel_desc = response['items'][i]['snippet']['description'],\n",
    "                        channel_loc = response['items'][i]['snippet']['country'],\n",
    "                        channel_pub_date = response['items'][i]['snippet']['publishedAt'],\n",
    "                        channel_view = response['items'][i]['statistics']['viewCount'],\n",
    "                        channel_sub = response['items'][i]['statistics']['subscriberCount'],\n",
    "                        channel_video = response['items'][i]['statistics']['videoCount'],\n",
    "                        channel_playlistId = response['items'][i]['contentDetails']['relatedPlaylists']['uploads'])\n",
    "        except:\n",
    "            data = dict(channel_title = response['items'][i]['snippet']['title'],\n",
    "                        channel_desc = response['items'][i]['snippet']['description'],\n",
    "                        channel_loc = None,\n",
    "                        channel_pub_date = response['items'][i]['snippet']['publishedAt'],\n",
    "                        channel_view = response['items'][i]['statistics']['viewCount'],\n",
    "                        channel_sub = response['items'][i]['statistics']['subscriberCount'],\n",
    "                        channel_video = response['items'][i]['statistics']['videoCount'],\n",
    "                        channel_playlistId = response['items'][i]['contentDetails']['relatedPlaylists']['uploads'])\n",
    "            \n",
    "        all_data.append(data)\n",
    "    \n",
    "    return pd.DataFrame(all_data)\n",
    "    "
   ]
  },
  {
   "cell_type": "markdown",
   "id": "aa1e6bc6-1c3e-4b41-9f9c-0fcb262bd4a4",
   "metadata": {},
   "source": [
    "#### Get video id's from channel id's"
   ]
  },
  {
   "cell_type": "code",
   "execution_count": 5,
   "id": "fbd571fd-b098-42dd-af9b-73e69ff2b2ef",
   "metadata": {
    "tags": []
   },
   "outputs": [],
   "source": [
    "def get_video_ids(youtube,playlist_id):\n",
    "    \"\"\"\n",
    "    Gets video_id's from each upload playlist id's\n",
    "\n",
    "    Parameters\n",
    "    ----------\n",
    "    youtube : google api build instance\n",
    "        build function instance with setup parameters (from googleapiclient.discovery)\n",
    "    playlist_id : str\n",
    "        upload playlist id of a youtube channel\n",
    "\n",
    "    Returns\n",
    "    -------\n",
    "    list\n",
    "        a list of video_ids uploaded onto upload playlist id\n",
    "    \"\"\"\n",
    "    \n",
    "    request = youtube.playlistItems().list(\n",
    "        part=\"snippet,ContentDetails\",\n",
    "        playlistId=playlist_id,\n",
    "        maxResults=50\n",
    "    )\n",
    "    response = request.execute()\n",
    "    \n",
    "    video_ids = []\n",
    "\n",
    "    for item in response['items']:\n",
    "        video_ids.append(item['contentDetails']['videoId'])\n",
    "\n",
    "    next_page_token = response.get('nextPageToken')\n",
    "\n",
    "    while next_page_token is not None:\n",
    "        request = youtube.playlistItems().list(\n",
    "            part=\"snippet,ContentDetails\", \n",
    "            playlistId=playlist_id, \n",
    "            maxResults=50, \n",
    "            pageToken=next_page_token\n",
    "        )\n",
    "        response = request.execute()\n",
    "\n",
    "        for item in response['items']:\n",
    "            video_ids.append(item['contentDetails']['videoId'])\n",
    "\n",
    "        next_page_token = response.get('nextPageToken')\n",
    "\n",
    "    return video_ids"
   ]
  },
  {
   "cell_type": "markdown",
   "id": "9baaecf4-c98e-49cf-b329-eb2d6fbb5c00",
   "metadata": {},
   "source": [
    "#### Get video details"
   ]
  },
  {
   "cell_type": "code",
   "execution_count": 6,
   "id": "9ef2f617-9df5-43a3-b0c1-ce7fb2e3c3cb",
   "metadata": {
    "tags": []
   },
   "outputs": [],
   "source": [
    "def get_video_details(youtube, video_ids):\n",
    "    \"\"\"\n",
    "    Gets video stats form each video_ids\n",
    "\n",
    "    Parameters\n",
    "    ----------\n",
    "    youtube : google api build instance\n",
    "        build function instance with setup parameters (from googleapiclient.discovery)\n",
    "    video_ids : str\n",
    "        video id of a youtube video\n",
    "\n",
    "    Returns\n",
    "    -------\n",
    "    DataFrame\n",
    "        a dataframe including: channelTitle, title, description, tags, publishedAt, duration, definition, \n",
    "        caption, viewCount, likeCount, favoriteCount, commentCount\n",
    "    \"\"\"\n",
    "    \n",
    "    all_video_info = []\n",
    "    \n",
    "    for i in range(0,len(video_ids),50):\n",
    "        request = youtube.videos().list(\n",
    "            part=\"snippet,contentDetails,statistics\",\n",
    "            id=','.join(video_ids[i:i+50])\n",
    "        )\n",
    "        response = request.execute()\n",
    "\n",
    "        for video in response['items']:\n",
    "            stats_to_keep = {'snippet':['channelTitle','title','description','tags','publishedAt'],\n",
    "                             'contentDetails':['duration','definition','caption'],\n",
    "                             'statistics':['viewCount','likeCount','favoriteCount','commentCount']\n",
    "                            }\n",
    "            video_info = {}\n",
    "            video_info['video_id'] = video['id'] #get the keys for the dict\n",
    "\n",
    "            for k in stats_to_keep.keys():\n",
    "                for v in stats_to_keep[k]:\n",
    "                    try: \n",
    "                        video_info[v] = video[k][v]\n",
    "                    except:\n",
    "                        video_info[v] = None\n",
    "\n",
    "            all_video_info.append(video_info)\n",
    "\n",
    "    return pd.DataFrame(all_video_info)"
   ]
  },
  {
   "cell_type": "markdown",
   "id": "fc6cb6e6-948b-4cba-9699-c43a81aecf7d",
   "metadata": {},
   "source": [
    "## Get channel data"
   ]
  },
  {
   "cell_type": "code",
   "execution_count": 7,
   "id": "59e542a0-1bbd-47a6-850f-13eba9fb5a3a",
   "metadata": {},
   "outputs": [],
   "source": [
    "channel_data = get_channel_stats(youtube,channel_ids)"
   ]
  },
  {
   "cell_type": "code",
   "execution_count": 8,
   "id": "090522d6-7a97-4b9d-933b-6bf028740781",
   "metadata": {
    "tags": []
   },
   "outputs": [],
   "source": [
    "#export file as csv for other session\n",
    "channel_data.to_csv('channel_df.csv')"
   ]
  },
  {
   "cell_type": "markdown",
   "id": "61aa35c8-0e36-439c-bfb1-795fd32398e2",
   "metadata": {},
   "source": [
    "## For each video id's - Get all videos data and all comments data"
   ]
  },
  {
   "cell_type": "code",
   "execution_count": 9,
   "id": "c56cc66e-7325-44a5-8619-403c7d75a81b",
   "metadata": {
    "jupyter": {
     "outputs_hidden": true
    },
    "tags": []
   },
   "outputs": [
    {
     "name": "stdout",
     "output_type": "stream",
     "text": [
      "Getting video info from channel no. 1/30: Agile Dog Training\n",
      "Getting video info from channel no. 2/30: Jenny Damm\n",
      "Getting video info from channel no. 3/30: Zak George’s Dog Training Revolution\n",
      "Getting video info from channel no. 4/30: OneMindDogs\n",
      "Getting video info from channel no. 5/30: Sarah Walsh - Dog Trainer\n",
      "Getting video info from channel no. 6/30: BrightDog Academy Dog Training\n",
      "Getting video info from channel no. 7/30: Larry Krohn\n",
      "Getting video info from channel no. 8/30: Iwona Golab\n",
      "Getting video info from channel no. 9/30: Peter Caine Dog Training \n",
      "Getting video info from channel no. 10/30: McCann Dog Training\n",
      "Getting video info from channel no. 11/30: absoluteDogs\n",
      "Getting video info from channel no. 12/30: Ogilvie Dogs\n",
      "Getting video info from channel no. 13/30: Fenrir Border Collie Show\n",
      "Getting video info from channel no. 14/30: Andy Krueger Dog Training \n",
      "Getting video info from channel no. 15/30: Tereza Králová\n",
      "Getting video info from channel no. 16/30: Beckman's Dog Training\n",
      "Getting video info from channel no. 17/30: Dog Training by Kikopup\n",
      "Getting video info from channel no. 18/30: Will Atherton Canine Training\n",
      "Getting video info from channel no. 19/30: McCann Dogs Agility\n",
      "Getting video info from channel no. 20/30: Saro Dog Training\n",
      "Getting video info from channel no. 21/30: Training Positive\n",
      "Getting video info from channel no. 22/30: PointyFloppy\n",
      "Getting video info from channel no. 23/30: Peak Performer\n",
      "Getting video info from channel no. 24/30: The Canine Coach Dog Training\n",
      "Getting video info from channel no. 25/30: Royvon Dog Training and Hotels\n",
      "Getting video info from channel no. 26/30: Fanny Gott\n",
      "Getting video info from channel no. 27/30: Stonnie Dennis\n",
      "Getting video info from channel no. 28/30: Fenrir Canine Show\n",
      "Getting video info from channel no. 29/30: Dogs That\n",
      "Getting video info from channel no. 30/30: My Dog Training Spot\n"
     ]
    }
   ],
   "source": [
    "#Getting videos\n",
    "video_df = pd.DataFrame()\n",
    "i=0\n",
    "for c in channel_data['channel_title'].unique():\n",
    "    print(f\"Getting video info from channel no. {i+1}/{channel_data.shape[0]}: {c}\") #showing process status\n",
    "    #get playlist id\n",
    "    playlist_id = channel_data.loc[channel_data['channel_title'] == c,'channel_playlistId'].iloc[0]\n",
    "    \n",
    "    #get video ids\n",
    "    video_ids = get_video_ids(youtube,playlist_id)\n",
    "    \n",
    "    #get video data\n",
    "    video_data = get_video_details(youtube,video_ids)\n",
    "    \n",
    "    #append data\n",
    "    video_df = pd.concat([video_df,video_data])\n",
    "    i+=1"
   ]
  },
  {
   "cell_type": "markdown",
   "id": "17710ba7-095c-4c15-b1fd-b3dbc345ed34",
   "metadata": {},
   "source": [
    "## Exporting as csv for future reference"
   ]
  },
  {
   "cell_type": "code",
   "execution_count": 10,
   "id": "df56781a-dbbd-473c-9b19-e1756e05ac7d",
   "metadata": {},
   "outputs": [],
   "source": [
    "video_df.to_csv('video_df.csv',index=False)"
   ]
  }
 ],
 "metadata": {
  "kernelspec": {
   "display_name": "Python 3 (ipykernel)",
   "language": "python",
   "name": "python3"
  },
  "language_info": {
   "codemirror_mode": {
    "name": "ipython",
    "version": 3
   },
   "file_extension": ".py",
   "mimetype": "text/x-python",
   "name": "python",
   "nbconvert_exporter": "python",
   "pygments_lexer": "ipython3",
   "version": "3.9.12"
  }
 },
 "nbformat": 4,
 "nbformat_minor": 5
}
