{
 "cells": [
  {
   "cell_type": "code",
   "execution_count": 61,
   "id": "e963cde3-6b37-4b98-8725-f290543bf820",
   "metadata": {},
   "outputs": [],
   "source": [
    "#data manipulation\n",
    "import pandas as pd\n",
    "import numpy as np\n",
    "from dateutil import parser\n",
    "import isodate\n",
    "\n",
    "#data visualization\n",
    "import seaborn as sns\n",
    "import matplotlib.pyplot as plt\n",
    "\n",
    "sns.color_palette('colorblind')\n",
    "%matplotlib inline\n",
    "\n",
    "#NLP lib\n",
    "import nltk\n",
    "from nltk.corpus import stopwords\n",
    "from nltk.tokenize import word_tokenize\n",
    "#nltk.download('stopwords')\n",
    "#nltk.download('punkt')\n",
    "from wordcloud import WordCloud"
   ]
  },
  {
   "cell_type": "markdown",
   "id": "f63e4e13-fd23-4f26-bd71-50243067ef7a",
   "metadata": {},
   "source": [
    "Introducing channels that we will be analysing"
   ]
  },
  {
   "cell_type": "code",
   "execution_count": 4,
   "id": "2581995f-cde3-4973-8dd4-3d5920f416fe",
   "metadata": {},
   "outputs": [],
   "source": [
    "ch_df = pd.read_csv('channel_df.csv')"
   ]
  },
  {
   "cell_type": "code",
   "execution_count": 5,
   "id": "d6725ed2-22fb-4130-a844-2126e5d6dbe0",
   "metadata": {},
   "outputs": [
    {
     "data": {
      "text/html": [
       "<div>\n",
       "<style scoped>\n",
       "    .dataframe tbody tr th:only-of-type {\n",
       "        vertical-align: middle;\n",
       "    }\n",
       "\n",
       "    .dataframe tbody tr th {\n",
       "        vertical-align: top;\n",
       "    }\n",
       "\n",
       "    .dataframe thead th {\n",
       "        text-align: right;\n",
       "    }\n",
       "</style>\n",
       "<table border=\"1\" class=\"dataframe\">\n",
       "  <thead>\n",
       "    <tr style=\"text-align: right;\">\n",
       "      <th></th>\n",
       "      <th>Unnamed: 0</th>\n",
       "      <th>channel_title</th>\n",
       "      <th>channel_desc</th>\n",
       "      <th>channel_view</th>\n",
       "      <th>channel_sub</th>\n",
       "      <th>channel_video</th>\n",
       "      <th>channel_playlistId</th>\n",
       "    </tr>\n",
       "  </thead>\n",
       "  <tbody>\n",
       "    <tr>\n",
       "      <th>0</th>\n",
       "      <td>0</td>\n",
       "      <td>Jenny Damm</td>\n",
       "      <td>NaN</td>\n",
       "      <td>796465</td>\n",
       "      <td>5730</td>\n",
       "      <td>175</td>\n",
       "      <td>UUwLs3Ldbl1Ox-fvupUq7ipA</td>\n",
       "    </tr>\n",
       "    <tr>\n",
       "      <th>1</th>\n",
       "      <td>1</td>\n",
       "      <td>PointyFloppy</td>\n",
       "      <td>Adventure of border collies with pointy and fl...</td>\n",
       "      <td>2004</td>\n",
       "      <td>9</td>\n",
       "      <td>58</td>\n",
       "      <td>UUSPfJ89aYsRhpDSnZ0vaFCg</td>\n",
       "    </tr>\n",
       "    <tr>\n",
       "      <th>2</th>\n",
       "      <td>2</td>\n",
       "      <td>absoluteDogs</td>\n",
       "      <td>This is the official YouTube channel of Tom an...</td>\n",
       "      <td>1017985</td>\n",
       "      <td>47600</td>\n",
       "      <td>234</td>\n",
       "      <td>UUrz5NqpcLxpiy1Wm_ksEV3g</td>\n",
       "    </tr>\n",
       "    <tr>\n",
       "      <th>3</th>\n",
       "      <td>3</td>\n",
       "      <td>McCann Dogs Agility</td>\n",
       "      <td>Kayl McCann is a dog trainer, who has been a m...</td>\n",
       "      <td>165303</td>\n",
       "      <td>4580</td>\n",
       "      <td>129</td>\n",
       "      <td>UUULyOKD5Y9QTKFDikg2UDgw</td>\n",
       "    </tr>\n",
       "    <tr>\n",
       "      <th>4</th>\n",
       "      <td>4</td>\n",
       "      <td>Iwona Golab</td>\n",
       "      <td>🌎Agility Worldwide Coach 🏆World Championship M...</td>\n",
       "      <td>210681</td>\n",
       "      <td>1440</td>\n",
       "      <td>251</td>\n",
       "      <td>UUxXnIktVdXrSFCE8u1D-26w</td>\n",
       "    </tr>\n",
       "    <tr>\n",
       "      <th>5</th>\n",
       "      <td>5</td>\n",
       "      <td>Fanny Gott</td>\n",
       "      <td>Clicker training videos</td>\n",
       "      <td>1466307</td>\n",
       "      <td>7130</td>\n",
       "      <td>413</td>\n",
       "      <td>UUqw_HGVtWKcd-owWODwcQsg</td>\n",
       "    </tr>\n",
       "    <tr>\n",
       "      <th>6</th>\n",
       "      <td>6</td>\n",
       "      <td>Dogs That</td>\n",
       "      <td>Our DogsThat YouTube Channel is brought to you...</td>\n",
       "      <td>2122473</td>\n",
       "      <td>43600</td>\n",
       "      <td>290</td>\n",
       "      <td>UUC17PDLl8y1dP2BRV5vuseg</td>\n",
       "    </tr>\n",
       "    <tr>\n",
       "      <th>7</th>\n",
       "      <td>7</td>\n",
       "      <td>Peak Performer</td>\n",
       "      <td>NaN</td>\n",
       "      <td>300353</td>\n",
       "      <td>1550</td>\n",
       "      <td>488</td>\n",
       "      <td>UUEaf-PDONb_nhyNRmVw9_nA</td>\n",
       "    </tr>\n",
       "    <tr>\n",
       "      <th>8</th>\n",
       "      <td>8</td>\n",
       "      <td>Dog Training by Kikopup</td>\n",
       "      <td>Professional dog training videos created by wo...</td>\n",
       "      <td>41556897</td>\n",
       "      <td>358000</td>\n",
       "      <td>595</td>\n",
       "      <td>UU-qnqaajTk6bfs3UZuue6IQ</td>\n",
       "    </tr>\n",
       "    <tr>\n",
       "      <th>9</th>\n",
       "      <td>9</td>\n",
       "      <td>OneMindDogs</td>\n",
       "      <td>OneMind Dogs is a dog and agility training met...</td>\n",
       "      <td>995279</td>\n",
       "      <td>6380</td>\n",
       "      <td>368</td>\n",
       "      <td>UUMF2E-huI3T7meqJBU-olZg</td>\n",
       "    </tr>\n",
       "    <tr>\n",
       "      <th>10</th>\n",
       "      <td>10</td>\n",
       "      <td>Agile Dog Training</td>\n",
       "      <td>Welcome to the Agile Dog Training channel wher...</td>\n",
       "      <td>54900</td>\n",
       "      <td>2030</td>\n",
       "      <td>13</td>\n",
       "      <td>UUxsOQBtCjUhYS-j8VYt4KFQ</td>\n",
       "    </tr>\n",
       "    <tr>\n",
       "      <th>11</th>\n",
       "      <td>11</td>\n",
       "      <td>Tereza Králová</td>\n",
       "      <td>NaN</td>\n",
       "      <td>919373</td>\n",
       "      <td>5730</td>\n",
       "      <td>138</td>\n",
       "      <td>UUmLiE85jsHD7tSsfGUoFd1A</td>\n",
       "    </tr>\n",
       "    <tr>\n",
       "      <th>12</th>\n",
       "      <td>12</td>\n",
       "      <td>Zak George’s Dog Training Revolution</td>\n",
       "      <td>This is the official YouTube channel of me, do...</td>\n",
       "      <td>272484875</td>\n",
       "      <td>3560000</td>\n",
       "      <td>546</td>\n",
       "      <td>UUZzFRKsgVMhGTxffpzgTJlQ</td>\n",
       "    </tr>\n",
       "  </tbody>\n",
       "</table>\n",
       "</div>"
      ],
      "text/plain": [
       "    Unnamed: 0                         channel_title  \\\n",
       "0            0                            Jenny Damm   \n",
       "1            1                          PointyFloppy   \n",
       "2            2                          absoluteDogs   \n",
       "3            3                   McCann Dogs Agility   \n",
       "4            4                           Iwona Golab   \n",
       "5            5                            Fanny Gott   \n",
       "6            6                             Dogs That   \n",
       "7            7                        Peak Performer   \n",
       "8            8               Dog Training by Kikopup   \n",
       "9            9                           OneMindDogs   \n",
       "10          10                    Agile Dog Training   \n",
       "11          11                        Tereza Králová   \n",
       "12          12  Zak George’s Dog Training Revolution   \n",
       "\n",
       "                                         channel_desc  channel_view  \\\n",
       "0                                                 NaN        796465   \n",
       "1   Adventure of border collies with pointy and fl...          2004   \n",
       "2   This is the official YouTube channel of Tom an...       1017985   \n",
       "3   Kayl McCann is a dog trainer, who has been a m...        165303   \n",
       "4   🌎Agility Worldwide Coach 🏆World Championship M...        210681   \n",
       "5                             Clicker training videos       1466307   \n",
       "6   Our DogsThat YouTube Channel is brought to you...       2122473   \n",
       "7                                                 NaN        300353   \n",
       "8   Professional dog training videos created by wo...      41556897   \n",
       "9   OneMind Dogs is a dog and agility training met...        995279   \n",
       "10  Welcome to the Agile Dog Training channel wher...         54900   \n",
       "11                                                NaN        919373   \n",
       "12  This is the official YouTube channel of me, do...     272484875   \n",
       "\n",
       "    channel_sub  channel_video        channel_playlistId  \n",
       "0          5730            175  UUwLs3Ldbl1Ox-fvupUq7ipA  \n",
       "1             9             58  UUSPfJ89aYsRhpDSnZ0vaFCg  \n",
       "2         47600            234  UUrz5NqpcLxpiy1Wm_ksEV3g  \n",
       "3          4580            129  UUULyOKD5Y9QTKFDikg2UDgw  \n",
       "4          1440            251  UUxXnIktVdXrSFCE8u1D-26w  \n",
       "5          7130            413  UUqw_HGVtWKcd-owWODwcQsg  \n",
       "6         43600            290  UUC17PDLl8y1dP2BRV5vuseg  \n",
       "7          1550            488  UUEaf-PDONb_nhyNRmVw9_nA  \n",
       "8        358000            595  UU-qnqaajTk6bfs3UZuue6IQ  \n",
       "9          6380            368  UUMF2E-huI3T7meqJBU-olZg  \n",
       "10         2030             13  UUxsOQBtCjUhYS-j8VYt4KFQ  \n",
       "11         5730            138  UUmLiE85jsHD7tSsfGUoFd1A  \n",
       "12      3560000            546  UUZzFRKsgVMhGTxffpzgTJlQ  "
      ]
     },
     "execution_count": 5,
     "metadata": {},
     "output_type": "execute_result"
    }
   ],
   "source": [
    "ch_df"
   ]
  },
  {
   "cell_type": "code",
   "execution_count": 19,
   "id": "eea1f763-3232-441e-9a0c-8d1dd38ccf96",
   "metadata": {},
   "outputs": [
    {
     "data": {
      "text/plain": [
       "<AxesSubplot:title={'center':'Dog Training Channel Ranked by Subscribers'}, xlabel='channel_title', ylabel='channel_video'>"
      ]
     },
     "execution_count": 19,
     "metadata": {},
     "output_type": "execute_result"
    },
    {
     "data": {
      "image/png": "[encoded data removed]",
      "text/plain": [
       "<Figure size 720x432 with 1 Axes>"
      ]
     },
     "metadata": {
      "needs_background": "light"
     },
     "output_type": "display_data"
    }
   ],
   "source": [
    "plt.figure(figsize=(10,6))\n",
    "plt.xticks(rotation=90)\n",
    "plt.title('Dog Training Channel Ranked by Subscribers')\n",
    "sns.barplot(x='channel_title',y='channel_video',data = ch_df.sort_values('channel_video'))"
   ]
  },
  {
   "cell_type": "code",
   "execution_count": 17,
   "id": "d17fcf44-87a8-4f59-847f-167daef69772",
   "metadata": {},
   "outputs": [
    {
     "data": {
      "text/plain": [
       "<seaborn.axisgrid.FacetGrid at 0x1c0fa5b6e20>"
      ]
     },
     "execution_count": 17,
     "metadata": {},
     "output_type": "execute_result"
    },
    {
     "data": {
      "text/plain": [
       "<Figure size 720x432 with 0 Axes>"
      ]
     },
     "metadata": {},
     "output_type": "display_data"
    },
    {
     "data": {
      "image/png": "[encoded data removed]",
      "text/plain": [
       "<Figure size 360x360 with 1 Axes>"
      ]
     },
     "metadata": {
      "needs_background": "light"
     },
     "output_type": "display_data"
    }
   ],
   "source": [
    "#excluding the top two outliers - we will investigate the channel sub vs channel views\n",
    "plt.figure(figsize=(10,6))\n",
    "sns.lmplot(x='channel_sub', y='channel_view', data = ch_df.sort_values(by='channel_sub',ascending=True)[0:-2])"
   ]
  },
  {
   "cell_type": "code",
   "execution_count": 21,
   "id": "72b7a164-75a0-4ced-ad0f-6816f4916571",
   "metadata": {},
   "outputs": [],
   "source": [
    "df = pd.read_csv('video_df.csv')"
   ]
  },
  {
   "cell_type": "code",
   "execution_count": 22,
   "id": "ee054551-bc96-439b-8d47-1dab37208df3",
   "metadata": {},
   "outputs": [
    {
     "data": {
      "text/plain": [
       "(3698, 13)"
      ]
     },
     "execution_count": 22,
     "metadata": {},
     "output_type": "execute_result"
    }
   ],
   "source": [
    "df.shape"
   ]
  },
  {
   "cell_type": "markdown",
   "id": "a3ddec96-3d10-462e-899e-dbefb2d87b17",
   "metadata": {},
   "source": [
    "#### Check for empty values"
   ]
  },
  {
   "cell_type": "code",
   "execution_count": 23,
   "id": "dbed2491-3a25-49d8-bccb-b29c327631a9",
   "metadata": {},
   "outputs": [
    {
     "data": {
      "text/plain": [
       "video_id          0.000000\n",
       "channelTitle      0.000000\n",
       "title             0.000000\n",
       "description      12.330990\n",
       "tags             27.068686\n",
       "publishedAt       0.000000\n",
       "duration          0.000000\n",
       "definition        0.000000\n",
       "caption           0.000000\n",
       "viewCount         0.000000\n",
       "likeCount         0.081125\n",
       "favoriteCount     0.000000\n",
       "commentCount      0.676041\n",
       "dtype: float64"
      ]
     },
     "execution_count": 23,
     "metadata": {},
     "output_type": "execute_result"
    }
   ],
   "source": [
    "df.isnull().sum() / len(df['video_id']) * 100"
   ]
  },
  {
   "cell_type": "code",
   "execution_count": 24,
   "id": "24f19536-7b94-4764-8ca3-3e6daca8e393",
   "metadata": {},
   "outputs": [
    {
     "data": {
      "text/plain": [
       "video_id            0\n",
       "channelTitle        0\n",
       "title               0\n",
       "description       456\n",
       "tags             1001\n",
       "publishedAt         0\n",
       "duration            0\n",
       "definition          0\n",
       "caption             0\n",
       "viewCount           0\n",
       "likeCount           3\n",
       "favoriteCount       0\n",
       "commentCount       25\n",
       "dtype: int64"
      ]
     },
     "execution_count": 24,
     "metadata": {},
     "output_type": "execute_result"
    }
   ],
   "source": [
    "df.isnull().sum()"
   ]
  },
  {
   "cell_type": "code",
   "execution_count": 25,
   "id": "2d083797-7a43-4bfc-8bdd-360fb1f9844a",
   "metadata": {},
   "outputs": [
    {
     "data": {
      "text/plain": [
       "<AxesSubplot:>"
      ]
     },
     "execution_count": 25,
     "metadata": {},
     "output_type": "execute_result"
    },
    {
     "data": {
      "image/png": "[encoded data removed]",
      "text/plain": [
       "<Figure size 864x432 with 2 Axes>"
      ]
     },
     "metadata": {
      "needs_background": "light"
     },
     "output_type": "display_data"
    }
   ],
   "source": [
    "plt.figure(figsize=(12,6))\n",
    "sns.heatmap(df.isnull(),cmap='magma')"
   ]
  },
  {
   "cell_type": "markdown",
   "id": "a88949ea-d263-43df-977d-98bb58e5b6f2",
   "metadata": {},
   "source": [
    "Since this data is acquired through API, we can fill in empty values with a specific words like \"No description\", \"0 tags\"\n",
    "But let's investigate no likeCount and no commentCount - as these should be nulls too"
   ]
  },
  {
   "cell_type": "code",
   "execution_count": 26,
   "id": "66d6e202-2901-4ea9-b88d-da950a3399fd",
   "metadata": {},
   "outputs": [
    {
     "data": {
      "text/html": [
       "<div>\n",
       "<style scoped>\n",
       "    .dataframe tbody tr th:only-of-type {\n",
       "        vertical-align: middle;\n",
       "    }\n",
       "\n",
       "    .dataframe tbody tr th {\n",
       "        vertical-align: top;\n",
       "    }\n",
       "\n",
       "    .dataframe thead th {\n",
       "        text-align: right;\n",
       "    }\n",
       "</style>\n",
       "<table border=\"1\" class=\"dataframe\">\n",
       "  <thead>\n",
       "    <tr style=\"text-align: right;\">\n",
       "      <th></th>\n",
       "      <th>video_id</th>\n",
       "      <th>channelTitle</th>\n",
       "      <th>title</th>\n",
       "      <th>description</th>\n",
       "      <th>tags</th>\n",
       "      <th>publishedAt</th>\n",
       "      <th>duration</th>\n",
       "      <th>definition</th>\n",
       "      <th>caption</th>\n",
       "      <th>viewCount</th>\n",
       "      <th>likeCount</th>\n",
       "      <th>favoriteCount</th>\n",
       "      <th>commentCount</th>\n",
       "    </tr>\n",
       "  </thead>\n",
       "  <tbody>\n",
       "    <tr>\n",
       "      <th>2399</th>\n",
       "      <td>6INllFeO19k</td>\n",
       "      <td>Dog Training by Kikopup</td>\n",
       "      <td>Dog Training seminar in Venice Italy</td>\n",
       "      <td>Visit our website: http://dogmantics.com/\\nBuy...</td>\n",
       "      <td>['dog training', 'professional dog trainer', '...</td>\n",
       "      <td>2012-05-25T17:46:14Z</td>\n",
       "      <td>PT2M33S</td>\n",
       "      <td>sd</td>\n",
       "      <td>False</td>\n",
       "      <td>6827</td>\n",
       "      <td>NaN</td>\n",
       "      <td>0</td>\n",
       "      <td>28.0</td>\n",
       "    </tr>\n",
       "    <tr>\n",
       "      <th>3026</th>\n",
       "      <td>MANZ9_b__g0</td>\n",
       "      <td>Tereza Králová</td>\n",
       "      <td>High´s first competition :-)</td>\n",
       "      <td>NaN</td>\n",
       "      <td>NaN</td>\n",
       "      <td>2019-12-27T16:11:38Z</td>\n",
       "      <td>PT1M27S</td>\n",
       "      <td>hd</td>\n",
       "      <td>False</td>\n",
       "      <td>7171</td>\n",
       "      <td>NaN</td>\n",
       "      <td>0</td>\n",
       "      <td>3.0</td>\n",
       "    </tr>\n",
       "    <tr>\n",
       "      <th>3109</th>\n",
       "      <td>LEvUD2GPGYY</td>\n",
       "      <td>Tereza Králová</td>\n",
       "      <td>Flame_Czech Agility Championship 2012</td>\n",
       "      <td>Just Flame Perla z Polabí &amp; Tereza Králová\\n1s...</td>\n",
       "      <td>['Flame', 'MČR2012']</td>\n",
       "      <td>2012-11-14T16:09:19Z</td>\n",
       "      <td>PT2M39S</td>\n",
       "      <td>sd</td>\n",
       "      <td>False</td>\n",
       "      <td>1945</td>\n",
       "      <td>NaN</td>\n",
       "      <td>0</td>\n",
       "      <td>0.0</td>\n",
       "    </tr>\n",
       "  </tbody>\n",
       "</table>\n",
       "</div>"
      ],
      "text/plain": [
       "         video_id             channelTitle  \\\n",
       "2399  6INllFeO19k  Dog Training by Kikopup   \n",
       "3026  MANZ9_b__g0           Tereza Králová   \n",
       "3109  LEvUD2GPGYY           Tereza Králová   \n",
       "\n",
       "                                      title  \\\n",
       "2399   Dog Training seminar in Venice Italy   \n",
       "3026           High´s first competition :-)   \n",
       "3109  Flame_Czech Agility Championship 2012   \n",
       "\n",
       "                                            description  \\\n",
       "2399  Visit our website: http://dogmantics.com/\\nBuy...   \n",
       "3026                                                NaN   \n",
       "3109  Just Flame Perla z Polabí & Tereza Králová\\n1s...   \n",
       "\n",
       "                                                   tags           publishedAt  \\\n",
       "2399  ['dog training', 'professional dog trainer', '...  2012-05-25T17:46:14Z   \n",
       "3026                                                NaN  2019-12-27T16:11:38Z   \n",
       "3109                               ['Flame', 'MČR2012']  2012-11-14T16:09:19Z   \n",
       "\n",
       "     duration definition  caption  viewCount  likeCount  favoriteCount  \\\n",
       "2399  PT2M33S         sd    False       6827        NaN              0   \n",
       "3026  PT1M27S         hd    False       7171        NaN              0   \n",
       "3109  PT2M39S         sd    False       1945        NaN              0   \n",
       "\n",
       "      commentCount  \n",
       "2399          28.0  \n",
       "3026           3.0  \n",
       "3109           0.0  "
      ]
     },
     "execution_count": 26,
     "metadata": {},
     "output_type": "execute_result"
    }
   ],
   "source": [
    "df[df['likeCount'].isnull()]"
   ]
  },
  {
   "cell_type": "code",
   "execution_count": 27,
   "id": "dad04a73-b63b-467c-94c1-661322f42372",
   "metadata": {},
   "outputs": [
    {
     "data": {
      "text/html": [
       "<div>\n",
       "<style scoped>\n",
       "    .dataframe tbody tr th:only-of-type {\n",
       "        vertical-align: middle;\n",
       "    }\n",
       "\n",
       "    .dataframe tbody tr th {\n",
       "        vertical-align: top;\n",
       "    }\n",
       "\n",
       "    .dataframe thead th {\n",
       "        text-align: right;\n",
       "    }\n",
       "</style>\n",
       "<table border=\"1\" class=\"dataframe\">\n",
       "  <thead>\n",
       "    <tr style=\"text-align: right;\">\n",
       "      <th></th>\n",
       "      <th>video_id</th>\n",
       "      <th>channelTitle</th>\n",
       "      <th>title</th>\n",
       "      <th>description</th>\n",
       "      <th>tags</th>\n",
       "      <th>publishedAt</th>\n",
       "      <th>duration</th>\n",
       "      <th>definition</th>\n",
       "      <th>caption</th>\n",
       "      <th>viewCount</th>\n",
       "      <th>likeCount</th>\n",
       "      <th>favoriteCount</th>\n",
       "      <th>commentCount</th>\n",
       "    </tr>\n",
       "  </thead>\n",
       "  <tbody>\n",
       "    <tr>\n",
       "      <th>15</th>\n",
       "      <td>qYuqGotfdzc</td>\n",
       "      <td>Jenny Damm</td>\n",
       "      <td>Ziv's - training 1: Running contacts, crate ga...</td>\n",
       "      <td>(Version without music) This is Ziv's first tr...</td>\n",
       "      <td>['iMovie']</td>\n",
       "      <td>2021-08-26T08:52:52Z</td>\n",
       "      <td>PT5M15S</td>\n",
       "      <td>sd</td>\n",
       "      <td>False</td>\n",
       "      <td>361</td>\n",
       "      <td>13.0</td>\n",
       "      <td>0</td>\n",
       "      <td>NaN</td>\n",
       "    </tr>\n",
       "    <tr>\n",
       "      <th>148</th>\n",
       "      <td>5asS8VFZ27g</td>\n",
       "      <td>Jenny Damm</td>\n",
       "      <td>Garden training 2009</td>\n",
       "      <td>Jenny Damm is training with a friends and her ...</td>\n",
       "      <td>['jenny', 'damm', 'border', 'collie', 'dogs', ...</td>\n",
       "      <td>2009-10-09T13:04:11Z</td>\n",
       "      <td>PT9M7S</td>\n",
       "      <td>sd</td>\n",
       "      <td>False</td>\n",
       "      <td>4685</td>\n",
       "      <td>21.0</td>\n",
       "      <td>0</td>\n",
       "      <td>NaN</td>\n",
       "    </tr>\n",
       "    <tr>\n",
       "      <th>232</th>\n",
       "      <td>QZ-35pWgSg8</td>\n",
       "      <td>PointyFloppy</td>\n",
       "      <td>Agility Training EP1. Action camera fun run</td>\n",
       "      <td>NaN</td>\n",
       "      <td>NaN</td>\n",
       "      <td>2021-07-11T15:12:20Z</td>\n",
       "      <td>PT47S</td>\n",
       "      <td>hd</td>\n",
       "      <td>False</td>\n",
       "      <td>17</td>\n",
       "      <td>0.0</td>\n",
       "      <td>0</td>\n",
       "      <td>NaN</td>\n",
       "    </tr>\n",
       "    <tr>\n",
       "      <th>576</th>\n",
       "      <td>zyAHbqivIds</td>\n",
       "      <td>McCann Dogs Agility</td>\n",
       "      <td>Slyce - preparation for WAO - Feb 2012</td>\n",
       "      <td>Kayl McCann &amp; Slyce - These are drills we prac...</td>\n",
       "      <td>['dog', 'agility', 'sport', 'puppies', 'jumpin...</td>\n",
       "      <td>2012-03-03T00:48:15Z</td>\n",
       "      <td>PT1M47S</td>\n",
       "      <td>hd</td>\n",
       "      <td>False</td>\n",
       "      <td>525</td>\n",
       "      <td>3.0</td>\n",
       "      <td>0</td>\n",
       "      <td>NaN</td>\n",
       "    </tr>\n",
       "    <tr>\n",
       "      <th>577</th>\n",
       "      <td>GxY-ryYqRdA</td>\n",
       "      <td>McCann Dogs Agility</td>\n",
       "      <td>Funkee Monkee - Preparation for WAO Feb 2012</td>\n",
       "      <td>Kayl McCann with Slyce &amp; Funkee Monkee - Membe...</td>\n",
       "      <td>['dog', 'agility', 'sport', 'puppies', 'jumpin...</td>\n",
       "      <td>2012-03-03T00:47:42Z</td>\n",
       "      <td>PT1M51S</td>\n",
       "      <td>hd</td>\n",
       "      <td>False</td>\n",
       "      <td>748</td>\n",
       "      <td>2.0</td>\n",
       "      <td>0</td>\n",
       "      <td>NaN</td>\n",
       "    </tr>\n",
       "    <tr>\n",
       "      <th>674</th>\n",
       "      <td>-GFbW6HdTuM</td>\n",
       "      <td>Iwona Golab</td>\n",
       "      <td>Applause, RC, 16 months</td>\n",
       "      <td>NaN</td>\n",
       "      <td>NaN</td>\n",
       "      <td>2016-06-05T05:23:17Z</td>\n",
       "      <td>PT31S</td>\n",
       "      <td>hd</td>\n",
       "      <td>False</td>\n",
       "      <td>2454</td>\n",
       "      <td>12.0</td>\n",
       "      <td>0</td>\n",
       "      <td>NaN</td>\n",
       "    </tr>\n",
       "    <tr>\n",
       "      <th>675</th>\n",
       "      <td>x5f93BPV6wA</td>\n",
       "      <td>Iwona Golab</td>\n",
       "      <td>Applause training 01 May</td>\n",
       "      <td>NaN</td>\n",
       "      <td>['agility', 'training', 'iwona golab', 'applau...</td>\n",
       "      <td>2016-05-01T21:26:21Z</td>\n",
       "      <td>PT45S</td>\n",
       "      <td>hd</td>\n",
       "      <td>False</td>\n",
       "      <td>867</td>\n",
       "      <td>9.0</td>\n",
       "      <td>0</td>\n",
       "      <td>NaN</td>\n",
       "    </tr>\n",
       "    <tr>\n",
       "      <th>676</th>\n",
       "      <td>PvhRRxcBT-s</td>\n",
       "      <td>Iwona Golab</td>\n",
       "      <td>Applause 2 strides dogwalk</td>\n",
       "      <td>Always impatient Applause :-) Why bother with ...</td>\n",
       "      <td>['running contacts', 'dogwalk', 'agility', 'rc...</td>\n",
       "      <td>2016-04-26T13:56:39Z</td>\n",
       "      <td>PT17S</td>\n",
       "      <td>hd</td>\n",
       "      <td>False</td>\n",
       "      <td>1318</td>\n",
       "      <td>15.0</td>\n",
       "      <td>0</td>\n",
       "      <td>NaN</td>\n",
       "    </tr>\n",
       "    <tr>\n",
       "      <th>677</th>\n",
       "      <td>WPu49iVmdU8</td>\n",
       "      <td>Iwona Golab</td>\n",
       "      <td>Applause a frame</td>\n",
       "      <td>NaN</td>\n",
       "      <td>NaN</td>\n",
       "      <td>2016-04-09T11:27:57Z</td>\n",
       "      <td>PT10S</td>\n",
       "      <td>hd</td>\n",
       "      <td>False</td>\n",
       "      <td>674</td>\n",
       "      <td>2.0</td>\n",
       "      <td>0</td>\n",
       "      <td>NaN</td>\n",
       "    </tr>\n",
       "    <tr>\n",
       "      <th>678</th>\n",
       "      <td>L0Ur0-uO0bQ</td>\n",
       "      <td>Iwona Golab</td>\n",
       "      <td>Applause - Absolutely simple, beautiful and ma...</td>\n",
       "      <td>NaN</td>\n",
       "      <td>['agility', 'iwona golab']</td>\n",
       "      <td>2016-04-08T17:52:24Z</td>\n",
       "      <td>PT1M53S</td>\n",
       "      <td>hd</td>\n",
       "      <td>False</td>\n",
       "      <td>1288</td>\n",
       "      <td>14.0</td>\n",
       "      <td>0</td>\n",
       "      <td>NaN</td>\n",
       "    </tr>\n",
       "    <tr>\n",
       "      <th>680</th>\n",
       "      <td>I0SGWNjYjho</td>\n",
       "      <td>Iwona Golab</td>\n",
       "      <td>World Championship Qualis</td>\n",
       "      <td>NaN</td>\n",
       "      <td>['awc', 'qualis', 'winning', 'winner', 'agilit...</td>\n",
       "      <td>2016-03-14T13:46:58Z</td>\n",
       "      <td>PT3M20S</td>\n",
       "      <td>hd</td>\n",
       "      <td>False</td>\n",
       "      <td>716</td>\n",
       "      <td>13.0</td>\n",
       "      <td>0</td>\n",
       "      <td>NaN</td>\n",
       "    </tr>\n",
       "    <tr>\n",
       "      <th>681</th>\n",
       "      <td>4IKnSOZj0GA</td>\n",
       "      <td>Iwona Golab</td>\n",
       "      <td>Way To Weave - Home doggy fitness</td>\n",
       "      <td>Improving weaving style &amp; efficient footwork</td>\n",
       "      <td>['agility', 'weaving', 'slalom', 'dog', 'iwona...</td>\n",
       "      <td>2016-03-10T09:07:01Z</td>\n",
       "      <td>PT1M47S</td>\n",
       "      <td>hd</td>\n",
       "      <td>False</td>\n",
       "      <td>4900</td>\n",
       "      <td>108.0</td>\n",
       "      <td>0</td>\n",
       "      <td>NaN</td>\n",
       "    </tr>\n",
       "    <tr>\n",
       "      <th>682</th>\n",
       "      <td>1925VUQIRj4</td>\n",
       "      <td>Iwona Golab</td>\n",
       "      <td>Running Contacts Applause</td>\n",
       "      <td>NaN</td>\n",
       "      <td>['agility', 'rc', 'running contacts', 'iwona g...</td>\n",
       "      <td>2016-03-03T18:40:06Z</td>\n",
       "      <td>PT1M48S</td>\n",
       "      <td>hd</td>\n",
       "      <td>False</td>\n",
       "      <td>1439</td>\n",
       "      <td>23.0</td>\n",
       "      <td>0</td>\n",
       "      <td>NaN</td>\n",
       "    </tr>\n",
       "    <tr>\n",
       "      <th>683</th>\n",
       "      <td>yvZt9zPIC24</td>\n",
       "      <td>Iwona Golab</td>\n",
       "      <td>Kite - LOTW 4</td>\n",
       "      <td>NaN</td>\n",
       "      <td>['lotw', 'rose speedlight', 'agility', 'kite',...</td>\n",
       "      <td>2016-02-08T20:41:07Z</td>\n",
       "      <td>PT2M27S</td>\n",
       "      <td>hd</td>\n",
       "      <td>False</td>\n",
       "      <td>760</td>\n",
       "      <td>12.0</td>\n",
       "      <td>0</td>\n",
       "      <td>NaN</td>\n",
       "    </tr>\n",
       "    <tr>\n",
       "      <th>684</th>\n",
       "      <td>JUNr7eHesWY</td>\n",
       "      <td>Iwona Golab</td>\n",
       "      <td>Happy B-Day Applause!</td>\n",
       "      <td>NaN</td>\n",
       "      <td>['border collie', 'puppy']</td>\n",
       "      <td>2016-02-03T08:46:56Z</td>\n",
       "      <td>PT1M20S</td>\n",
       "      <td>hd</td>\n",
       "      <td>False</td>\n",
       "      <td>1024</td>\n",
       "      <td>16.0</td>\n",
       "      <td>0</td>\n",
       "      <td>NaN</td>\n",
       "    </tr>\n",
       "    <tr>\n",
       "      <th>1738</th>\n",
       "      <td>53omDafFkOA</td>\n",
       "      <td>Peak Performer</td>\n",
       "      <td>10DEZ2015 – 2on2off und Running Contacts mit R...</td>\n",
       "      <td>www.swiss-paws.com</td>\n",
       "      <td>['swiss', 'paws', 'sheltie']</td>\n",
       "      <td>2015-12-10T15:44:00Z</td>\n",
       "      <td>PT49S</td>\n",
       "      <td>hd</td>\n",
       "      <td>False</td>\n",
       "      <td>776</td>\n",
       "      <td>3.0</td>\n",
       "      <td>0</td>\n",
       "      <td>NaN</td>\n",
       "    </tr>\n",
       "    <tr>\n",
       "      <th>1760</th>\n",
       "      <td>OJ59U9al2Fw</td>\n",
       "      <td>Peak Performer</td>\n",
       "      <td>wand vergleich</td>\n",
       "      <td>www.swiss-paws.com</td>\n",
       "      <td>['swiss', 'paws', 'sheltie']</td>\n",
       "      <td>2015-04-18T20:59:51Z</td>\n",
       "      <td>PT57S</td>\n",
       "      <td>hd</td>\n",
       "      <td>False</td>\n",
       "      <td>194</td>\n",
       "      <td>1.0</td>\n",
       "      <td>0</td>\n",
       "      <td>NaN</td>\n",
       "    </tr>\n",
       "    <tr>\n",
       "      <th>1761</th>\n",
       "      <td>8rRzz6okxNQ</td>\n",
       "      <td>Peak Performer</td>\n",
       "      <td>Mein Film</td>\n",
       "      <td>www.swiss-paws.com</td>\n",
       "      <td>['swiss', 'paws', 'sheltie']</td>\n",
       "      <td>2015-04-18T20:07:50Z</td>\n",
       "      <td>PT3M54S</td>\n",
       "      <td>hd</td>\n",
       "      <td>False</td>\n",
       "      <td>252</td>\n",
       "      <td>1.0</td>\n",
       "      <td>0</td>\n",
       "      <td>NaN</td>\n",
       "    </tr>\n",
       "    <tr>\n",
       "      <th>1782</th>\n",
       "      <td>3FG-YGGrA38</td>\n",
       "      <td>Peak Performer</td>\n",
       "      <td>08OKT14 – Agility-Training</td>\n",
       "      <td>www.swiss-paws.com</td>\n",
       "      <td>['swiss', 'paws', 'sheltie']</td>\n",
       "      <td>2014-10-08T18:05:56Z</td>\n",
       "      <td>PT2M26S</td>\n",
       "      <td>hd</td>\n",
       "      <td>False</td>\n",
       "      <td>294</td>\n",
       "      <td>2.0</td>\n",
       "      <td>0</td>\n",
       "      <td>NaN</td>\n",
       "    </tr>\n",
       "    <tr>\n",
       "      <th>1805</th>\n",
       "      <td>qE2Jcwn5s4w</td>\n",
       "      <td>Peak Performer</td>\n",
       "      <td>23 – 01JUL14 – Steg; ca. 105 cm</td>\n",
       "      <td>www.swiss-paws.com</td>\n",
       "      <td>['swiss', 'paws', 'sheltie']</td>\n",
       "      <td>2014-09-01T20:05:45Z</td>\n",
       "      <td>PT1M9S</td>\n",
       "      <td>hd</td>\n",
       "      <td>False</td>\n",
       "      <td>20</td>\n",
       "      <td>0.0</td>\n",
       "      <td>0</td>\n",
       "      <td>NaN</td>\n",
       "    </tr>\n",
       "    <tr>\n",
       "      <th>1814</th>\n",
       "      <td>Tfj9D__SuYU</td>\n",
       "      <td>Peak Performer</td>\n",
       "      <td>08JUL14 – Running Contacts</td>\n",
       "      <td>www.swiss-paws.com</td>\n",
       "      <td>['swiss', 'paws', 'sheltie']</td>\n",
       "      <td>2014-07-08T11:29:55Z</td>\n",
       "      <td>PT28S</td>\n",
       "      <td>hd</td>\n",
       "      <td>False</td>\n",
       "      <td>68</td>\n",
       "      <td>0.0</td>\n",
       "      <td>0</td>\n",
       "      <td>NaN</td>\n",
       "    </tr>\n",
       "    <tr>\n",
       "      <th>1838</th>\n",
       "      <td>pcPk9nDcUo0</td>\n",
       "      <td>Peak Performer</td>\n",
       "      <td>Raichu</td>\n",
       "      <td>NaN</td>\n",
       "      <td>NaN</td>\n",
       "      <td>2014-04-11T22:24:37Z</td>\n",
       "      <td>PT12S</td>\n",
       "      <td>sd</td>\n",
       "      <td>False</td>\n",
       "      <td>114</td>\n",
       "      <td>0.0</td>\n",
       "      <td>0</td>\n",
       "      <td>NaN</td>\n",
       "    </tr>\n",
       "    <tr>\n",
       "      <th>1858</th>\n",
       "      <td>IjbVBYI2zt0</td>\n",
       "      <td>Peak Performer</td>\n",
       "      <td>20130811 runnings</td>\n",
       "      <td>NaN</td>\n",
       "      <td>NaN</td>\n",
       "      <td>2013-08-11T12:59:51Z</td>\n",
       "      <td>PT13S</td>\n",
       "      <td>sd</td>\n",
       "      <td>False</td>\n",
       "      <td>215</td>\n",
       "      <td>1.0</td>\n",
       "      <td>0</td>\n",
       "      <td>NaN</td>\n",
       "    </tr>\n",
       "    <tr>\n",
       "      <th>2868</th>\n",
       "      <td>S-Abu8itAWc</td>\n",
       "      <td>OneMindDogs</td>\n",
       "      <td>Fiona Wennberg – Born To Run Agility</td>\n",
       "      <td>Meet Fiona Wennberg - a talented and goal orie...</td>\n",
       "      <td>['OneMind Dogs', 'Dog Agility', 'Method', 'Jun...</td>\n",
       "      <td>2017-08-22T07:59:10Z</td>\n",
       "      <td>PT3M6S</td>\n",
       "      <td>hd</td>\n",
       "      <td>False</td>\n",
       "      <td>3118</td>\n",
       "      <td>14.0</td>\n",
       "      <td>0</td>\n",
       "      <td>NaN</td>\n",
       "    </tr>\n",
       "    <tr>\n",
       "      <th>3011</th>\n",
       "      <td>DRoahgsFGW0</td>\n",
       "      <td>Agile Dog Training</td>\n",
       "      <td>My dog hijack's first full height teeter</td>\n",
       "      <td>video of my JRT Hijack doing his first full he...</td>\n",
       "      <td>['agile dog training', 'jess martin agility', ...</td>\n",
       "      <td>2013-10-31T14:50:24Z</td>\n",
       "      <td>PT1M22S</td>\n",
       "      <td>sd</td>\n",
       "      <td>False</td>\n",
       "      <td>560</td>\n",
       "      <td>4.0</td>\n",
       "      <td>0</td>\n",
       "      <td>NaN</td>\n",
       "    </tr>\n",
       "  </tbody>\n",
       "</table>\n",
       "</div>"
      ],
      "text/plain": [
       "         video_id         channelTitle  \\\n",
       "15    qYuqGotfdzc           Jenny Damm   \n",
       "148   5asS8VFZ27g           Jenny Damm   \n",
       "232   QZ-35pWgSg8         PointyFloppy   \n",
       "576   zyAHbqivIds  McCann Dogs Agility   \n",
       "577   GxY-ryYqRdA  McCann Dogs Agility   \n",
       "674   -GFbW6HdTuM          Iwona Golab   \n",
       "675   x5f93BPV6wA          Iwona Golab   \n",
       "676   PvhRRxcBT-s          Iwona Golab   \n",
       "677   WPu49iVmdU8          Iwona Golab   \n",
       "678   L0Ur0-uO0bQ          Iwona Golab   \n",
       "680   I0SGWNjYjho          Iwona Golab   \n",
       "681   4IKnSOZj0GA          Iwona Golab   \n",
       "682   1925VUQIRj4          Iwona Golab   \n",
       "683   yvZt9zPIC24          Iwona Golab   \n",
       "684   JUNr7eHesWY          Iwona Golab   \n",
       "1738  53omDafFkOA       Peak Performer   \n",
       "1760  OJ59U9al2Fw       Peak Performer   \n",
       "1761  8rRzz6okxNQ       Peak Performer   \n",
       "1782  3FG-YGGrA38       Peak Performer   \n",
       "1805  qE2Jcwn5s4w       Peak Performer   \n",
       "1814  Tfj9D__SuYU       Peak Performer   \n",
       "1838  pcPk9nDcUo0       Peak Performer   \n",
       "1858  IjbVBYI2zt0       Peak Performer   \n",
       "2868  S-Abu8itAWc          OneMindDogs   \n",
       "3011  DRoahgsFGW0   Agile Dog Training   \n",
       "\n",
       "                                                  title  \\\n",
       "15    Ziv's - training 1: Running contacts, crate ga...   \n",
       "148                                Garden training 2009   \n",
       "232         Agility Training EP1. Action camera fun run   \n",
       "576              Slyce - preparation for WAO - Feb 2012   \n",
       "577        Funkee Monkee - Preparation for WAO Feb 2012   \n",
       "674                             Applause, RC, 16 months   \n",
       "675                            Applause training 01 May   \n",
       "676                          Applause 2 strides dogwalk   \n",
       "677                                    Applause a frame   \n",
       "678   Applause - Absolutely simple, beautiful and ma...   \n",
       "680                           World Championship Qualis   \n",
       "681                   Way To Weave - Home doggy fitness   \n",
       "682                           Running Contacts Applause   \n",
       "683                                       Kite - LOTW 4   \n",
       "684                               Happy B-Day Applause!   \n",
       "1738  10DEZ2015 – 2on2off und Running Contacts mit R...   \n",
       "1760                                     wand vergleich   \n",
       "1761                                          Mein Film   \n",
       "1782                         08OKT14 – Agility-Training   \n",
       "1805                    23 – 01JUL14 – Steg; ca. 105 cm   \n",
       "1814                         08JUL14 – Running Contacts   \n",
       "1838                                             Raichu   \n",
       "1858                                  20130811 runnings   \n",
       "2868               Fiona Wennberg – Born To Run Agility   \n",
       "3011           My dog hijack's first full height teeter   \n",
       "\n",
       "                                            description  \\\n",
       "15    (Version without music) This is Ziv's first tr...   \n",
       "148   Jenny Damm is training with a friends and her ...   \n",
       "232                                                 NaN   \n",
       "576   Kayl McCann & Slyce - These are drills we prac...   \n",
       "577   Kayl McCann with Slyce & Funkee Monkee - Membe...   \n",
       "674                                                 NaN   \n",
       "675                                                 NaN   \n",
       "676   Always impatient Applause :-) Why bother with ...   \n",
       "677                                                 NaN   \n",
       "678                                                 NaN   \n",
       "680                                                 NaN   \n",
       "681        Improving weaving style & efficient footwork   \n",
       "682                                                 NaN   \n",
       "683                                                 NaN   \n",
       "684                                                 NaN   \n",
       "1738                                 www.swiss-paws.com   \n",
       "1760                                 www.swiss-paws.com   \n",
       "1761                                 www.swiss-paws.com   \n",
       "1782                                 www.swiss-paws.com   \n",
       "1805                                 www.swiss-paws.com   \n",
       "1814                                 www.swiss-paws.com   \n",
       "1838                                                NaN   \n",
       "1858                                                NaN   \n",
       "2868  Meet Fiona Wennberg - a talented and goal orie...   \n",
       "3011  video of my JRT Hijack doing his first full he...   \n",
       "\n",
       "                                                   tags           publishedAt  \\\n",
       "15                                           ['iMovie']  2021-08-26T08:52:52Z   \n",
       "148   ['jenny', 'damm', 'border', 'collie', 'dogs', ...  2009-10-09T13:04:11Z   \n",
       "232                                                 NaN  2021-07-11T15:12:20Z   \n",
       "576   ['dog', 'agility', 'sport', 'puppies', 'jumpin...  2012-03-03T00:48:15Z   \n",
       "577   ['dog', 'agility', 'sport', 'puppies', 'jumpin...  2012-03-03T00:47:42Z   \n",
       "674                                                 NaN  2016-06-05T05:23:17Z   \n",
       "675   ['agility', 'training', 'iwona golab', 'applau...  2016-05-01T21:26:21Z   \n",
       "676   ['running contacts', 'dogwalk', 'agility', 'rc...  2016-04-26T13:56:39Z   \n",
       "677                                                 NaN  2016-04-09T11:27:57Z   \n",
       "678                          ['agility', 'iwona golab']  2016-04-08T17:52:24Z   \n",
       "680   ['awc', 'qualis', 'winning', 'winner', 'agilit...  2016-03-14T13:46:58Z   \n",
       "681   ['agility', 'weaving', 'slalom', 'dog', 'iwona...  2016-03-10T09:07:01Z   \n",
       "682   ['agility', 'rc', 'running contacts', 'iwona g...  2016-03-03T18:40:06Z   \n",
       "683   ['lotw', 'rose speedlight', 'agility', 'kite',...  2016-02-08T20:41:07Z   \n",
       "684                          ['border collie', 'puppy']  2016-02-03T08:46:56Z   \n",
       "1738                       ['swiss', 'paws', 'sheltie']  2015-12-10T15:44:00Z   \n",
       "1760                       ['swiss', 'paws', 'sheltie']  2015-04-18T20:59:51Z   \n",
       "1761                       ['swiss', 'paws', 'sheltie']  2015-04-18T20:07:50Z   \n",
       "1782                       ['swiss', 'paws', 'sheltie']  2014-10-08T18:05:56Z   \n",
       "1805                       ['swiss', 'paws', 'sheltie']  2014-09-01T20:05:45Z   \n",
       "1814                       ['swiss', 'paws', 'sheltie']  2014-07-08T11:29:55Z   \n",
       "1838                                                NaN  2014-04-11T22:24:37Z   \n",
       "1858                                                NaN  2013-08-11T12:59:51Z   \n",
       "2868  ['OneMind Dogs', 'Dog Agility', 'Method', 'Jun...  2017-08-22T07:59:10Z   \n",
       "3011  ['agile dog training', 'jess martin agility', ...  2013-10-31T14:50:24Z   \n",
       "\n",
       "     duration definition  caption  viewCount  likeCount  favoriteCount  \\\n",
       "15    PT5M15S         sd    False        361       13.0              0   \n",
       "148    PT9M7S         sd    False       4685       21.0              0   \n",
       "232     PT47S         hd    False         17        0.0              0   \n",
       "576   PT1M47S         hd    False        525        3.0              0   \n",
       "577   PT1M51S         hd    False        748        2.0              0   \n",
       "674     PT31S         hd    False       2454       12.0              0   \n",
       "675     PT45S         hd    False        867        9.0              0   \n",
       "676     PT17S         hd    False       1318       15.0              0   \n",
       "677     PT10S         hd    False        674        2.0              0   \n",
       "678   PT1M53S         hd    False       1288       14.0              0   \n",
       "680   PT3M20S         hd    False        716       13.0              0   \n",
       "681   PT1M47S         hd    False       4900      108.0              0   \n",
       "682   PT1M48S         hd    False       1439       23.0              0   \n",
       "683   PT2M27S         hd    False        760       12.0              0   \n",
       "684   PT1M20S         hd    False       1024       16.0              0   \n",
       "1738    PT49S         hd    False        776        3.0              0   \n",
       "1760    PT57S         hd    False        194        1.0              0   \n",
       "1761  PT3M54S         hd    False        252        1.0              0   \n",
       "1782  PT2M26S         hd    False        294        2.0              0   \n",
       "1805   PT1M9S         hd    False         20        0.0              0   \n",
       "1814    PT28S         hd    False         68        0.0              0   \n",
       "1838    PT12S         sd    False        114        0.0              0   \n",
       "1858    PT13S         sd    False        215        1.0              0   \n",
       "2868   PT3M6S         hd    False       3118       14.0              0   \n",
       "3011  PT1M22S         sd    False        560        4.0              0   \n",
       "\n",
       "      commentCount  \n",
       "15             NaN  \n",
       "148            NaN  \n",
       "232            NaN  \n",
       "576            NaN  \n",
       "577            NaN  \n",
       "674            NaN  \n",
       "675            NaN  \n",
       "676            NaN  \n",
       "677            NaN  \n",
       "678            NaN  \n",
       "680            NaN  \n",
       "681            NaN  \n",
       "682            NaN  \n",
       "683            NaN  \n",
       "684            NaN  \n",
       "1738           NaN  \n",
       "1760           NaN  \n",
       "1761           NaN  \n",
       "1782           NaN  \n",
       "1805           NaN  \n",
       "1814           NaN  \n",
       "1838           NaN  \n",
       "1858           NaN  \n",
       "2868           NaN  \n",
       "3011           NaN  "
      ]
     },
     "execution_count": 27,
     "metadata": {},
     "output_type": "execute_result"
    }
   ],
   "source": [
    "df[df['commentCount'].isnull()]"
   ]
  },
  {
   "cell_type": "markdown",
   "id": "ec5bc91d-36e1-4aca-ba06-49d8f121133e",
   "metadata": {},
   "source": [
    "They are videos where likes and comments are turned off. So we will replace these with 0 (int) to correct data type"
   ]
  },
  {
   "cell_type": "code",
   "execution_count": 28,
   "id": "46256ca8-3ee5-4a3d-ba5d-99f34dac8f6d",
   "metadata": {},
   "outputs": [],
   "source": [
    "df['likeCount'].fillna(int(0),inplace=True)"
   ]
  },
  {
   "cell_type": "code",
   "execution_count": 29,
   "id": "ed6cda0c-2ece-4479-a4e5-9dd368f0fecc",
   "metadata": {},
   "outputs": [],
   "source": [
    "df['commentCount'].fillna(int(0),inplace=True)"
   ]
  },
  {
   "cell_type": "code",
   "execution_count": 30,
   "id": "82d00480-d75b-4808-a09f-1d96c4f61975",
   "metadata": {},
   "outputs": [
    {
     "data": {
      "text/plain": [
       "video_id            0\n",
       "channelTitle        0\n",
       "title               0\n",
       "description       456\n",
       "tags             1001\n",
       "publishedAt         0\n",
       "duration            0\n",
       "definition          0\n",
       "caption             0\n",
       "viewCount           0\n",
       "likeCount           0\n",
       "favoriteCount       0\n",
       "commentCount        0\n",
       "dtype: int64"
      ]
     },
     "execution_count": 30,
     "metadata": {},
     "output_type": "execute_result"
    }
   ],
   "source": [
    "df.isnull().sum()"
   ]
  },
  {
   "cell_type": "code",
   "execution_count": 31,
   "id": "86e8f18f-c387-4336-9032-648b8ca4bafb",
   "metadata": {},
   "outputs": [],
   "source": [
    "df['description'].fillna('No Description',inplace=True)"
   ]
  },
  {
   "cell_type": "code",
   "execution_count": 32,
   "id": "51e4ff96-2579-4582-99f5-a3bacc6f1852",
   "metadata": {},
   "outputs": [],
   "source": [
    "df['tags'].fillna('0',inplace=True)"
   ]
  },
  {
   "cell_type": "code",
   "execution_count": 33,
   "id": "9027286b-cd87-4d64-b3b5-e264059b5e79",
   "metadata": {},
   "outputs": [
    {
     "data": {
      "text/plain": [
       "video_id         0\n",
       "channelTitle     0\n",
       "title            0\n",
       "description      0\n",
       "tags             0\n",
       "publishedAt      0\n",
       "duration         0\n",
       "definition       0\n",
       "caption          0\n",
       "viewCount        0\n",
       "likeCount        0\n",
       "favoriteCount    0\n",
       "commentCount     0\n",
       "dtype: int64"
      ]
     },
     "execution_count": 33,
     "metadata": {},
     "output_type": "execute_result"
    }
   ],
   "source": [
    "df.isnull().sum()"
   ]
  },
  {
   "cell_type": "code",
   "execution_count": 34,
   "id": "388f8b61-3c41-4091-be09-5203204b2ae0",
   "metadata": {},
   "outputs": [
    {
     "data": {
      "text/plain": [
       "<AxesSubplot:>"
      ]
     },
     "execution_count": 34,
     "metadata": {},
     "output_type": "execute_result"
    },
    {
     "data": {
      "image/png": "[encoded data removed]",
      "text/plain": [
       "<Figure size 864x432 with 2 Axes>"
      ]
     },
     "metadata": {
      "needs_background": "light"
     },
     "output_type": "display_data"
    }
   ],
   "source": [
    "plt.figure(figsize=(12,6))\n",
    "sns.heatmap(df.isnull(),cmap='magma')"
   ]
  },
  {
   "cell_type": "markdown",
   "id": "d26698b0-d8df-4975-a9fb-a7673d30cd11",
   "metadata": {},
   "source": [
    "All data's are filled!"
   ]
  },
  {
   "cell_type": "markdown",
   "id": "90de6d5a-5c80-41d7-96a5-4f33df20a050",
   "metadata": {
    "tags": []
   },
   "source": [
    "#### Now I need to check data types"
   ]
  },
  {
   "cell_type": "code",
   "execution_count": 35,
   "id": "659f5138-1092-4eb9-9cbd-1ccc2ac84e22",
   "metadata": {},
   "outputs": [
    {
     "name": "stdout",
     "output_type": "stream",
     "text": [
      "<class 'pandas.core.frame.DataFrame'>\n",
      "RangeIndex: 3698 entries, 0 to 3697\n",
      "Data columns (total 13 columns):\n",
      " #   Column         Non-Null Count  Dtype  \n",
      "---  ------         --------------  -----  \n",
      " 0   video_id       3698 non-null   object \n",
      " 1   channelTitle   3698 non-null   object \n",
      " 2   title          3698 non-null   object \n",
      " 3   description    3698 non-null   object \n",
      " 4   tags           3698 non-null   object \n",
      " 5   publishedAt    3698 non-null   object \n",
      " 6   duration       3698 non-null   object \n",
      " 7   definition     3698 non-null   object \n",
      " 8   caption        3698 non-null   bool   \n",
      " 9   viewCount      3698 non-null   int64  \n",
      " 10  likeCount      3698 non-null   float64\n",
      " 11  favoriteCount  3698 non-null   int64  \n",
      " 12  commentCount   3698 non-null   float64\n",
      "dtypes: bool(1), float64(2), int64(2), object(8)\n",
      "memory usage: 350.4+ KB\n"
     ]
    }
   ],
   "source": [
    "df.info()"
   ]
  },
  {
   "cell_type": "markdown",
   "id": "711daa11-71a9-4b14-9c96-648f4fcebd8a",
   "metadata": {},
   "source": [
    "tags should be counted, publishedAt should be date, duration should be time, likeCount and commentCount should be int."
   ]
  },
  {
   "cell_type": "code",
   "execution_count": 36,
   "id": "aeb77323-979f-46f3-af47-a91fb9eb499b",
   "metadata": {},
   "outputs": [],
   "source": [
    "df['likeCount'] = df['likeCount'].apply(np.int64)"
   ]
  },
  {
   "cell_type": "code",
   "execution_count": 37,
   "id": "33358fb6-3460-40a6-a70e-522968fa2f0c",
   "metadata": {},
   "outputs": [],
   "source": [
    "df['commentCount'] = df['commentCount'].apply(np.int64)"
   ]
  },
  {
   "cell_type": "code",
   "execution_count": 38,
   "id": "4e0c2f83-2bdc-457f-96c8-ef365ef715f7",
   "metadata": {},
   "outputs": [
    {
     "name": "stdout",
     "output_type": "stream",
     "text": [
      "<class 'pandas.core.frame.DataFrame'>\n",
      "RangeIndex: 3698 entries, 0 to 3697\n",
      "Data columns (total 13 columns):\n",
      " #   Column         Non-Null Count  Dtype \n",
      "---  ------         --------------  ----- \n",
      " 0   video_id       3698 non-null   object\n",
      " 1   channelTitle   3698 non-null   object\n",
      " 2   title          3698 non-null   object\n",
      " 3   description    3698 non-null   object\n",
      " 4   tags           3698 non-null   object\n",
      " 5   publishedAt    3698 non-null   object\n",
      " 6   duration       3698 non-null   object\n",
      " 7   definition     3698 non-null   object\n",
      " 8   caption        3698 non-null   bool  \n",
      " 9   viewCount      3698 non-null   int64 \n",
      " 10  likeCount      3698 non-null   int64 \n",
      " 11  favoriteCount  3698 non-null   int64 \n",
      " 12  commentCount   3698 non-null   int64 \n",
      "dtypes: bool(1), int64(4), object(8)\n",
      "memory usage: 350.4+ KB\n"
     ]
    }
   ],
   "source": [
    "df.info()"
   ]
  },
  {
   "cell_type": "code",
   "execution_count": 42,
   "id": "6d1a2f59-6a34-4f79-b64f-2c2f3c683ea6",
   "metadata": {},
   "outputs": [
    {
     "data": {
      "text/plain": [
       "0   2022-05-01 05:22:37\n",
       "1   2022-04-26 15:11:04\n",
       "2   2022-03-30 10:28:18\n",
       "3   2022-03-16 07:01:08\n",
       "4   2022-03-10 22:17:25\n",
       "Name: publishedAt, dtype: datetime64[ns]"
      ]
     },
     "execution_count": 42,
     "metadata": {},
     "output_type": "execute_result"
    }
   ],
   "source": [
    "df['publishedAt'].head(5)"
   ]
  },
  {
   "cell_type": "code",
   "execution_count": 43,
   "id": "3e0dc981-2fe0-44c3-83ca-cf3ac73ac915",
   "metadata": {},
   "outputs": [],
   "source": [
    "df['publishedAt'] = pd.to_datetime(df['publishedAt'], format='%Y-%m-%dT%H:%M:%SZ')"
   ]
  },
  {
   "cell_type": "code",
   "execution_count": 45,
   "id": "a486e9f4-45b3-4fed-8e28-bf7d3dd123b1",
   "metadata": {},
   "outputs": [],
   "source": [
    "#df['publishedAt'] = df['publishedAt'].map(lambda x: pd.to_datetime(x, yearfirst=True).tz_convert('Asia/Bangkok'))"
   ]
  },
  {
   "cell_type": "code",
   "execution_count": 46,
   "id": "fd4624c4-d18b-4c48-a6ae-ddf5bab1f17f",
   "metadata": {},
   "outputs": [
    {
     "name": "stdout",
     "output_type": "stream",
     "text": [
      "<class 'pandas.core.frame.DataFrame'>\n",
      "RangeIndex: 3698 entries, 0 to 3697\n",
      "Data columns (total 13 columns):\n",
      " #   Column         Non-Null Count  Dtype         \n",
      "---  ------         --------------  -----         \n",
      " 0   video_id       3698 non-null   object        \n",
      " 1   channelTitle   3698 non-null   object        \n",
      " 2   title          3698 non-null   object        \n",
      " 3   description    3698 non-null   object        \n",
      " 4   tags           3698 non-null   object        \n",
      " 5   publishedAt    3698 non-null   datetime64[ns]\n",
      " 6   duration       3698 non-null   object        \n",
      " 7   definition     3698 non-null   object        \n",
      " 8   caption        3698 non-null   bool          \n",
      " 9   viewCount      3698 non-null   int64         \n",
      " 10  likeCount      3698 non-null   int64         \n",
      " 11  favoriteCount  3698 non-null   int64         \n",
      " 12  commentCount   3698 non-null   int64         \n",
      "dtypes: bool(1), datetime64[ns](1), int64(4), object(7)\n",
      "memory usage: 350.4+ KB\n"
     ]
    }
   ],
   "source": [
    "df.info()"
   ]
  },
  {
   "cell_type": "markdown",
   "id": "9d54b0a4-fb05-4173-9241-1c196323f6c8",
   "metadata": {},
   "source": [
    "Note: Datetime should be posted depending on their own timezones"
   ]
  },
  {
   "cell_type": "code",
   "execution_count": 47,
   "id": "746c4669-07f9-4b3d-8c82-77939dc3d613",
   "metadata": {},
   "outputs": [
    {
     "data": {
      "text/plain": [
       "0    PT5M59S\n",
       "1     PT3M9S\n",
       "2    PT4M26S\n",
       "3    PT1M50S\n",
       "4    PT3M24S\n",
       "Name: duration, dtype: object"
      ]
     },
     "execution_count": 47,
     "metadata": {},
     "output_type": "execute_result"
    }
   ],
   "source": [
    "df['duration']"
   ]
  },
  {
   "cell_type": "code",
   "execution_count": 48,
   "id": "652efd2e-8b73-44e9-837a-8b8bc3c020a5",
   "metadata": {},
   "outputs": [
    {
     "ename": "ModuleNotFoundError",
     "evalue": "No module named 'isodate'",
     "output_type": "error",
     "traceback": [
      "\u001b[1;31m---------------------------------------------------------------------------\u001b[0m",
      "\u001b[1;31mModuleNotFoundError\u001b[0m                       Traceback (most recent call last)",
      "Input \u001b[1;32mIn [48]\u001b[0m, in \u001b[0;36m<cell line: 1>\u001b[1;34m()\u001b[0m\n\u001b[1;32m----> 1\u001b[0m \u001b[38;5;28;01mimport\u001b[39;00m \u001b[38;5;21;01misodate\u001b[39;00m\n\u001b[0;32m      2\u001b[0m dur \u001b[38;5;241m=\u001b[39m isodate\u001b[38;5;241m.\u001b[39mparse_duration(\u001b[38;5;124m'\u001b[39m\u001b[38;5;124mPT5M59S\u001b[39m\u001b[38;5;124m'\u001b[39m)\n\u001b[0;32m      3\u001b[0m \u001b[38;5;28mprint\u001b[39m(dur\u001b[38;5;241m.\u001b[39mtotal_seconds())\n",
      "\u001b[1;31mModuleNotFoundError\u001b[0m: No module named 'isodate'"
     ]
    }
   ],
   "source": [
    "import isodate\n",
    "dur = isodate.parse_duration('PT5M59S')\n",
    "print(dur.total_seconds())"
   ]
  },
  {
   "cell_type": "markdown",
   "id": "5135aaa1-64d9-490d-b583-42e0eb2ecb2e",
   "metadata": {},
   "source": [
    "need to change to proper duration time"
   ]
  },
  {
   "cell_type": "markdown",
   "id": "63b7942c-4a86-486f-b03b-64d63369c9bd",
   "metadata": {},
   "source": [
    "#### Sample plots"
   ]
  },
  {
   "cell_type": "markdown",
   "id": "0f5b8114-4234-4358-9075-624cbaf29770",
   "metadata": {},
   "source": [
    "Investigate relationship between title length and view counts"
   ]
  },
  {
   "cell_type": "code",
   "execution_count": 117,
   "id": "1e05ac2c-0779-49bb-8d54-5e3586d982db",
   "metadata": {},
   "outputs": [
    {
     "data": {
      "text/plain": [
       "<seaborn.axisgrid.FacetGrid at 0x220f5392580>"
      ]
     },
     "execution_count": 117,
     "metadata": {},
     "output_type": "execute_result"
    },
    {
     "data": {
      "text/plain": [
       "<Figure size 864x432 with 0 Axes>"
      ]
     },
     "metadata": {},
     "output_type": "display_data"
    },
    {
     "data": {
      "image/png": "[encoded data removed]",
      "text/plain": [
       "<Figure size 360x360 with 1 Axes>"
      ]
     },
     "metadata": {
      "needs_background": "light"
     },
     "output_type": "display_data"
    }
   ],
   "source": [
    "#title length vs view\n",
    "df['title_length'] = df['title'].apply(lambda x: len(x)) #move to feature engineering part\n",
    "\n",
    "plt.figure(figsize=(12,6))\n",
    "sns.lmplot(x='title_length',y='viewCount',data=df)"
   ]
  },
  {
   "cell_type": "markdown",
   "id": "fc65d907-651f-49b9-b39e-5704d79f29df",
   "metadata": {},
   "source": [
    "comment count vs view count"
   ]
  },
  {
   "cell_type": "code",
   "execution_count": 115,
   "id": "302c2b4c-29ec-44dc-a5c9-671c2e9dea8c",
   "metadata": {},
   "outputs": [
    {
     "data": {
      "text/plain": [
       "<seaborn.axisgrid.FacetGrid at 0x220edaa92b0>"
      ]
     },
     "execution_count": 115,
     "metadata": {},
     "output_type": "execute_result"
    },
    {
     "data": {
      "text/plain": [
       "<Figure size 864x432 with 0 Axes>"
      ]
     },
     "metadata": {},
     "output_type": "display_data"
    },
    {
     "data": {
      "image/png": "[encoded data removed]",
      "text/plain": [
       "<Figure size 360x360 with 1 Axes>"
      ]
     },
     "metadata": {
      "needs_background": "light"
     },
     "output_type": "display_data"
    }
   ],
   "source": [
    "plt.figure(figsize=(12,6))\n",
    "sns.lmplot(x='commentCount',y='viewCount',data=df)"
   ]
  },
  {
   "cell_type": "markdown",
   "id": "e6627120-e40f-4105-b80b-375ff979416a",
   "metadata": {},
   "source": [
    "observation: seems like there is a trend between view and comment - possibly due to youtube algorithm"
   ]
  },
  {
   "cell_type": "code",
   "execution_count": 116,
   "id": "e9b2dcf4-b370-47c1-9322-3ed377bc6823",
   "metadata": {},
   "outputs": [
    {
     "data": {
      "text/plain": [
       "<seaborn.axisgrid.FacetGrid at 0x220edd7b610>"
      ]
     },
     "execution_count": 116,
     "metadata": {},
     "output_type": "execute_result"
    },
    {
     "data": {
      "text/plain": [
       "<Figure size 864x432 with 0 Axes>"
      ]
     },
     "metadata": {},
     "output_type": "display_data"
    },
    {
     "data": {
      "image/png": "[encoded data removed]",
      "text/plain": [
       "<Figure size 360x360 with 1 Axes>"
      ]
     },
     "metadata": {
      "needs_background": "light"
     },
     "output_type": "display_data"
    }
   ],
   "source": [
    "plt.figure(figsize=(12,6))\n",
    "sns.lmplot(x='likeCount',y='viewCount',data=df)"
   ]
  },
  {
   "cell_type": "markdown",
   "id": "7930deb6-ccbf-4b92-8451-6c1e4a2ab9ef",
   "metadata": {},
   "source": [
    "Investigating differences in published time, but has to be based on channel location - in reality should check subscribers location as well to match that"
   ]
  },
  {
   "cell_type": "code",
   "execution_count": 121,
   "id": "996a9761-b27d-4fea-9321-86a8f4830f1b",
   "metadata": {},
   "outputs": [],
   "source": [
    "my_channel = df[df['channelTitle'] == 'PointyFloppy']"
   ]
  },
  {
   "cell_type": "code",
   "execution_count": 146,
   "id": "20fbc795-e855-4bd7-a92f-a3d0e162b58d",
   "metadata": {
    "collapsed": true,
    "jupyter": {
     "outputs_hidden": true
    },
    "tags": []
   },
   "outputs": [
    {
     "name": "stderr",
     "output_type": "stream",
     "text": [
      "C:\\Users\\smile\\AppData\\Local\\Temp\\ipykernel_26352\\1029569742.py:1: SettingWithCopyWarning: \n",
      "A value is trying to be set on a copy of a slice from a DataFrame.\n",
      "Try using .loc[row_indexer,col_indexer] = value instead\n",
      "\n",
      "See the caveats in the documentation: https://pandas.pydata.org/pandas-docs/stable/user_guide/indexing.html#returning-a-view-versus-a-copy\n",
      "  my_channel['published_hr'] = my_channel['publishedAt'].apply(lambda x : x.hour)\n"
     ]
    }
   ],
   "source": [
    "my_channel['published_hr'] = my_channel['publishedAt'].apply(lambda x : x.hour) #ignore warning?"
   ]
  },
  {
   "cell_type": "code",
   "execution_count": 155,
   "id": "9f9b2480-0855-4992-b834-01a4e5bebf8e",
   "metadata": {},
   "outputs": [
    {
     "data": {
      "text/plain": [
       "<AxesSubplot:xlabel='published_hr', ylabel='Count'>"
      ]
     },
     "execution_count": 155,
     "metadata": {},
     "output_type": "execute_result"
    },
    {
     "data": {
      "image/png": "[encoded data removed]",
      "text/plain": [
       "<Figure size 720x432 with 1 Axes>"
      ]
     },
     "metadata": {
      "needs_background": "light"
     },
     "output_type": "display_data"
    }
   ],
   "source": [
    "plt.figure(figsize=(10,6))\n",
    "sns.histplot(data=my_channel, x=\"published_hr\",bins=20,kde=True)"
   ]
  },
  {
   "cell_type": "code",
   "execution_count": 156,
   "id": "c9237067-ca02-4e9c-ad3c-07a63149d2af",
   "metadata": {},
   "outputs": [
    {
     "data": {
      "text/plain": [
       "<seaborn.axisgrid.FacetGrid at 0x2208205b160>"
      ]
     },
     "execution_count": 156,
     "metadata": {},
     "output_type": "execute_result"
    },
    {
     "data": {
      "text/plain": [
       "<Figure size 864x432 with 0 Axes>"
      ]
     },
     "metadata": {},
     "output_type": "display_data"
    },
    {
     "data": {
      "image/png": "[encoded data removed]",
      "text/plain": [
       "<Figure size 360x360 with 1 Axes>"
      ]
     },
     "metadata": {
      "needs_background": "light"
     },
     "output_type": "display_data"
    }
   ],
   "source": [
    "plt.figure(figsize=(12,6))\n",
    "sns.lmplot(x='published_hr',y='viewCount',data=my_channel)"
   ]
  },
  {
   "cell_type": "markdown",
   "id": "f03278d2-5fe2-47c0-9baf-46c207a579f9",
   "metadata": {},
   "source": [
    "May not be clear but we can explore other timezones - or match with other thai dog channels to see if uploading in the evening will get more views"
   ]
  },
  {
   "cell_type": "markdown",
   "id": "8b007976-b18e-4ca5-b072-09591f3a3093",
   "metadata": {},
   "source": [
    "#### Go back all data"
   ]
  },
  {
   "cell_type": "code",
   "execution_count": 159,
   "id": "b4fb9cb7-790e-486c-9cfd-7918cc98ef8b",
   "metadata": {},
   "outputs": [
    {
     "data": {
      "text/html": [
       "<div>\n",
       "<style scoped>\n",
       "    .dataframe tbody tr th:only-of-type {\n",
       "        vertical-align: middle;\n",
       "    }\n",
       "\n",
       "    .dataframe tbody tr th {\n",
       "        vertical-align: top;\n",
       "    }\n",
       "\n",
       "    .dataframe thead th {\n",
       "        text-align: right;\n",
       "    }\n",
       "</style>\n",
       "<table border=\"1\" class=\"dataframe\">\n",
       "  <thead>\n",
       "    <tr style=\"text-align: right;\">\n",
       "      <th></th>\n",
       "      <th>video_id</th>\n",
       "      <th>channelTitle</th>\n",
       "      <th>title</th>\n",
       "      <th>description</th>\n",
       "      <th>tags</th>\n",
       "      <th>publishedAt</th>\n",
       "      <th>duration</th>\n",
       "      <th>definition</th>\n",
       "      <th>caption</th>\n",
       "      <th>viewCount</th>\n",
       "      <th>likeCount</th>\n",
       "      <th>favoriteCount</th>\n",
       "      <th>commentCount</th>\n",
       "      <th>title_length</th>\n",
       "    </tr>\n",
       "  </thead>\n",
       "  <tbody>\n",
       "    <tr>\n",
       "      <th>0</th>\n",
       "      <td>YOaTYVydeH4</td>\n",
       "      <td>Jenny Damm</td>\n",
       "      <td>Training a Tamas Traj course at Torvalla Arena...</td>\n",
       "      <td>NaN</td>\n",
       "      <td>NaN</td>\n",
       "      <td>2022-05-01 12:22:37+07:00</td>\n",
       "      <td>PT5M59S</td>\n",
       "      <td>hd</td>\n",
       "      <td>False</td>\n",
       "      <td>1247</td>\n",
       "      <td>22</td>\n",
       "      <td>0</td>\n",
       "      <td>0</td>\n",
       "      <td>73</td>\n",
       "    </tr>\n",
       "    <tr>\n",
       "      <th>1</th>\n",
       "      <td>pFHvzNWqetU</td>\n",
       "      <td>Jenny Damm</td>\n",
       "      <td>Azta's four winning runs + final at Gåsahoppet...</td>\n",
       "      <td>NaN</td>\n",
       "      <td>NaN</td>\n",
       "      <td>2022-04-26 22:11:04+07:00</td>\n",
       "      <td>PT3M9S</td>\n",
       "      <td>hd</td>\n",
       "      <td>False</td>\n",
       "      <td>1302</td>\n",
       "      <td>27</td>\n",
       "      <td>0</td>\n",
       "      <td>1</td>\n",
       "      <td>58</td>\n",
       "    </tr>\n",
       "    <tr>\n",
       "      <th>2</th>\n",
       "      <td>5F5s9EsSaIs</td>\n",
       "      <td>Jenny Damm</td>\n",
       "      <td>Jocke course - Training with Azta &amp; Mailiz</td>\n",
       "      <td>NaN</td>\n",
       "      <td>NaN</td>\n",
       "      <td>2022-03-30 17:28:18+07:00</td>\n",
       "      <td>PT4M26S</td>\n",
       "      <td>hd</td>\n",
       "      <td>False</td>\n",
       "      <td>557</td>\n",
       "      <td>23</td>\n",
       "      <td>0</td>\n",
       "      <td>1</td>\n",
       "      <td>42</td>\n",
       "    </tr>\n",
       "    <tr>\n",
       "      <th>3</th>\n",
       "      <td>duX57XPjJJg</td>\n",
       "      <td>Jenny Damm</td>\n",
       "      <td>Mailiz trying my new course   Lotushallen 210315</td>\n",
       "      <td>NaN</td>\n",
       "      <td>NaN</td>\n",
       "      <td>2022-03-16 14:01:08+07:00</td>\n",
       "      <td>PT1M50S</td>\n",
       "      <td>hd</td>\n",
       "      <td>False</td>\n",
       "      <td>588</td>\n",
       "      <td>15</td>\n",
       "      <td>0</td>\n",
       "      <td>0</td>\n",
       "      <td>48</td>\n",
       "    </tr>\n",
       "    <tr>\n",
       "      <th>4</th>\n",
       "      <td>1YRoVzPLwpM</td>\n",
       "      <td>Jenny Damm</td>\n",
       "      <td>Lisa and My - RC training - soft turns, 220309</td>\n",
       "      <td>NaN</td>\n",
       "      <td>NaN</td>\n",
       "      <td>2022-03-11 05:17:25+07:00</td>\n",
       "      <td>PT3M24S</td>\n",
       "      <td>hd</td>\n",
       "      <td>False</td>\n",
       "      <td>419</td>\n",
       "      <td>14</td>\n",
       "      <td>0</td>\n",
       "      <td>3</td>\n",
       "      <td>46</td>\n",
       "    </tr>\n",
       "    <tr>\n",
       "      <th>...</th>\n",
       "      <td>...</td>\n",
       "      <td>...</td>\n",
       "      <td>...</td>\n",
       "      <td>...</td>\n",
       "      <td>...</td>\n",
       "      <td>...</td>\n",
       "      <td>...</td>\n",
       "      <td>...</td>\n",
       "      <td>...</td>\n",
       "      <td>...</td>\n",
       "      <td>...</td>\n",
       "      <td>...</td>\n",
       "      <td>...</td>\n",
       "      <td>...</td>\n",
       "    </tr>\n",
       "    <tr>\n",
       "      <th>3693</th>\n",
       "      <td>1D_16qpO21Y</td>\n",
       "      <td>Zak George’s Dog Training Revolution</td>\n",
       "      <td>How To PLAY With Two Dogs at Once</td>\n",
       "      <td>http://www.facebook.com/TheZakGeorge The BEST ...</td>\n",
       "      <td>['dog', 'training', 'frisbee', 'zak', 'george'...</td>\n",
       "      <td>2011-10-25 16:33:38+07:00</td>\n",
       "      <td>PT5M43S</td>\n",
       "      <td>hd</td>\n",
       "      <td>False</td>\n",
       "      <td>41944</td>\n",
       "      <td>816</td>\n",
       "      <td>0</td>\n",
       "      <td>83</td>\n",
       "      <td>33</td>\n",
       "    </tr>\n",
       "    <tr>\n",
       "      <th>3694</th>\n",
       "      <td>xq27e5hp4_w</td>\n",
       "      <td>Zak George’s Dog Training Revolution</td>\n",
       "      <td>Dog Training: A conversation with Dr. Ian Dunbar</td>\n",
       "      <td>Please visit http://www.dogstardaily.com\\r\\n\\r...</td>\n",
       "      <td>['zak', 'george', 'ian', 'dunbar', 'dog', 'tra...</td>\n",
       "      <td>2011-03-17 21:14:47+07:00</td>\n",
       "      <td>PT30M43S</td>\n",
       "      <td>sd</td>\n",
       "      <td>False</td>\n",
       "      <td>49393</td>\n",
       "      <td>827</td>\n",
       "      <td>0</td>\n",
       "      <td>129</td>\n",
       "      <td>48</td>\n",
       "    </tr>\n",
       "    <tr>\n",
       "      <th>3695</th>\n",
       "      <td>O-ziOPzsBHk</td>\n",
       "      <td>Zak George’s Dog Training Revolution</td>\n",
       "      <td>INSANE FRISBEE DOGS!</td>\n",
       "      <td>http://www.facebook.com/TheZakGeorge The BEST ...</td>\n",
       "      <td>['Frisbee', 'dogs', 'disc', 'trick', 'dog', 't...</td>\n",
       "      <td>2010-01-06 05:11:54+07:00</td>\n",
       "      <td>PT4M6S</td>\n",
       "      <td>sd</td>\n",
       "      <td>False</td>\n",
       "      <td>294647</td>\n",
       "      <td>1240</td>\n",
       "      <td>0</td>\n",
       "      <td>213</td>\n",
       "      <td>20</td>\n",
       "    </tr>\n",
       "    <tr>\n",
       "      <th>3696</th>\n",
       "      <td>nF1Wb_94_ec</td>\n",
       "      <td>Zak George’s Dog Training Revolution</td>\n",
       "      <td>How to Teach Your Dog to Back Up and Weave Bac...</td>\n",
       "      <td>The Zak George Project:\\r\\nhttp://blogs.discov...</td>\n",
       "      <td>['How', 'to', 'train', 'dog', 'tricks', 'zak',...</td>\n",
       "      <td>2009-07-14 11:36:57+07:00</td>\n",
       "      <td>PT2M1S</td>\n",
       "      <td>sd</td>\n",
       "      <td>False</td>\n",
       "      <td>154466</td>\n",
       "      <td>1277</td>\n",
       "      <td>0</td>\n",
       "      <td>147</td>\n",
       "      <td>70</td>\n",
       "    </tr>\n",
       "    <tr>\n",
       "      <th>3697</th>\n",
       "      <td>hK3F8ht0bpQ</td>\n",
       "      <td>Zak George’s Dog Training Revolution</td>\n",
       "      <td>Dog Training: How To Teach Your Dog \"Say Your ...</td>\n",
       "      <td>http://www.facebook.com/TheZakGeorge The BEST ...</td>\n",
       "      <td>['zak', 'george', 'how', 'to', 'train', 'your'...</td>\n",
       "      <td>2009-06-12 09:13:46+07:00</td>\n",
       "      <td>PT3M13S</td>\n",
       "      <td>sd</td>\n",
       "      <td>False</td>\n",
       "      <td>261988</td>\n",
       "      <td>2072</td>\n",
       "      <td>0</td>\n",
       "      <td>263</td>\n",
       "      <td>54</td>\n",
       "    </tr>\n",
       "  </tbody>\n",
       "</table>\n",
       "<p>3698 rows × 14 columns</p>\n",
       "</div>"
      ],
      "text/plain": [
       "         video_id                          channelTitle  \\\n",
       "0     YOaTYVydeH4                            Jenny Damm   \n",
       "1     pFHvzNWqetU                            Jenny Damm   \n",
       "2     5F5s9EsSaIs                            Jenny Damm   \n",
       "3     duX57XPjJJg                            Jenny Damm   \n",
       "4     1YRoVzPLwpM                            Jenny Damm   \n",
       "...           ...                                   ...   \n",
       "3693  1D_16qpO21Y  Zak George’s Dog Training Revolution   \n",
       "3694  xq27e5hp4_w  Zak George’s Dog Training Revolution   \n",
       "3695  O-ziOPzsBHk  Zak George’s Dog Training Revolution   \n",
       "3696  nF1Wb_94_ec  Zak George’s Dog Training Revolution   \n",
       "3697  hK3F8ht0bpQ  Zak George’s Dog Training Revolution   \n",
       "\n",
       "                                                  title  \\\n",
       "0     Training a Tamas Traj course at Torvalla Arena...   \n",
       "1     Azta's four winning runs + final at Gåsahoppet...   \n",
       "2            Jocke course - Training with Azta & Mailiz   \n",
       "3      Mailiz trying my new course   Lotushallen 210315   \n",
       "4        Lisa and My - RC training - soft turns, 220309   \n",
       "...                                                 ...   \n",
       "3693                  How To PLAY With Two Dogs at Once   \n",
       "3694   Dog Training: A conversation with Dr. Ian Dunbar   \n",
       "3695                               INSANE FRISBEE DOGS!   \n",
       "3696  How to Teach Your Dog to Back Up and Weave Bac...   \n",
       "3697  Dog Training: How To Teach Your Dog \"Say Your ...   \n",
       "\n",
       "                                            description  \\\n",
       "0                                                   NaN   \n",
       "1                                                   NaN   \n",
       "2                                                   NaN   \n",
       "3                                                   NaN   \n",
       "4                                                   NaN   \n",
       "...                                                 ...   \n",
       "3693  http://www.facebook.com/TheZakGeorge The BEST ...   \n",
       "3694  Please visit http://www.dogstardaily.com\\r\\n\\r...   \n",
       "3695  http://www.facebook.com/TheZakGeorge The BEST ...   \n",
       "3696  The Zak George Project:\\r\\nhttp://blogs.discov...   \n",
       "3697  http://www.facebook.com/TheZakGeorge The BEST ...   \n",
       "\n",
       "                                                   tags  \\\n",
       "0                                                   NaN   \n",
       "1                                                   NaN   \n",
       "2                                                   NaN   \n",
       "3                                                   NaN   \n",
       "4                                                   NaN   \n",
       "...                                                 ...   \n",
       "3693  ['dog', 'training', 'frisbee', 'zak', 'george'...   \n",
       "3694  ['zak', 'george', 'ian', 'dunbar', 'dog', 'tra...   \n",
       "3695  ['Frisbee', 'dogs', 'disc', 'trick', 'dog', 't...   \n",
       "3696  ['How', 'to', 'train', 'dog', 'tricks', 'zak',...   \n",
       "3697  ['zak', 'george', 'how', 'to', 'train', 'your'...   \n",
       "\n",
       "                   publishedAt  duration definition  caption  viewCount  \\\n",
       "0    2022-05-01 12:22:37+07:00   PT5M59S         hd    False       1247   \n",
       "1    2022-04-26 22:11:04+07:00    PT3M9S         hd    False       1302   \n",
       "2    2022-03-30 17:28:18+07:00   PT4M26S         hd    False        557   \n",
       "3    2022-03-16 14:01:08+07:00   PT1M50S         hd    False        588   \n",
       "4    2022-03-11 05:17:25+07:00   PT3M24S         hd    False        419   \n",
       "...                        ...       ...        ...      ...        ...   \n",
       "3693 2011-10-25 16:33:38+07:00   PT5M43S         hd    False      41944   \n",
       "3694 2011-03-17 21:14:47+07:00  PT30M43S         sd    False      49393   \n",
       "3695 2010-01-06 05:11:54+07:00    PT4M6S         sd    False     294647   \n",
       "3696 2009-07-14 11:36:57+07:00    PT2M1S         sd    False     154466   \n",
       "3697 2009-06-12 09:13:46+07:00   PT3M13S         sd    False     261988   \n",
       "\n",
       "      likeCount  favoriteCount  commentCount  title_length  \n",
       "0            22              0             0            73  \n",
       "1            27              0             1            58  \n",
       "2            23              0             1            42  \n",
       "3            15              0             0            48  \n",
       "4            14              0             3            46  \n",
       "...         ...            ...           ...           ...  \n",
       "3693        816              0            83            33  \n",
       "3694        827              0           129            48  \n",
       "3695       1240              0           213            20  \n",
       "3696       1277              0           147            70  \n",
       "3697       2072              0           263            54  \n",
       "\n",
       "[3698 rows x 14 columns]"
      ]
     },
     "execution_count": 159,
     "metadata": {},
     "output_type": "execute_result"
    }
   ],
   "source": [
    "df"
   ]
  },
  {
   "cell_type": "code",
   "execution_count": 67,
   "id": "9da55595-d27a-4b28-965c-dbc79b9064f5",
   "metadata": {},
   "outputs": [
    {
     "data": {
      "text/plain": [
       "pandas._libs.tslibs.timestamps.Timestamp"
      ]
     },
     "execution_count": 67,
     "metadata": {},
     "output_type": "execute_result"
    }
   ],
   "source": [
    "type()"
   ]
  },
  {
   "cell_type": "code",
   "execution_count": 71,
   "id": "4b1003c5-54d1-45d7-8131-b337de46e060",
   "metadata": {},
   "outputs": [],
   "source": [
    "#create a column for published day of the week\n",
    "df['publishedDay'] = df['publishedAt'].apply(lambda x : x.strftime(\"%A\"))"
   ]
  },
  {
   "cell_type": "code",
   "execution_count": 75,
   "id": "03046c84-79ea-4608-a5ec-abe5dfae4e92",
   "metadata": {},
   "outputs": [],
   "source": [
    "#change format of duration column\n",
    "df['duration_sec'] = df['duration'].apply(lambda x : isodate.parse_duration(x))\n",
    "df['duration_sec'] = df['duration_sec'].astype('timedelta64[s]')"
   ]
  },
  {
   "cell_type": "code",
   "execution_count": 81,
   "id": "33917edd-ff27-4e66-a701-ba0e874e626c",
   "metadata": {},
   "outputs": [],
   "source": [
    "df['duration_min'] = df['duration_sec'].apply(lambda x : round(x/60))"
   ]
  },
  {
   "cell_type": "code",
   "execution_count": 84,
   "id": "86c9468b-4513-4d95-ab26-c4825dce72b4",
   "metadata": {
    "tags": []
   },
   "outputs": [
    {
     "data": {
      "text/html": [
       "<div>\n",
       "<style scoped>\n",
       "    .dataframe tbody tr th:only-of-type {\n",
       "        vertical-align: middle;\n",
       "    }\n",
       "\n",
       "    .dataframe tbody tr th {\n",
       "        vertical-align: top;\n",
       "    }\n",
       "\n",
       "    .dataframe thead th {\n",
       "        text-align: right;\n",
       "    }\n",
       "</style>\n",
       "<table border=\"1\" class=\"dataframe\">\n",
       "  <thead>\n",
       "    <tr style=\"text-align: right;\">\n",
       "      <th></th>\n",
       "      <th>video_id</th>\n",
       "      <th>channelTitle</th>\n",
       "      <th>title</th>\n",
       "      <th>description</th>\n",
       "      <th>tags</th>\n",
       "      <th>publishedAt</th>\n",
       "      <th>duration</th>\n",
       "      <th>definition</th>\n",
       "      <th>caption</th>\n",
       "      <th>viewCount</th>\n",
       "      <th>likeCount</th>\n",
       "      <th>favoriteCount</th>\n",
       "      <th>commentCount</th>\n",
       "      <th>publishedDay</th>\n",
       "      <th>duration_sec</th>\n",
       "      <th>duration_min</th>\n",
       "    </tr>\n",
       "  </thead>\n",
       "  <tbody>\n",
       "    <tr>\n",
       "      <th>0</th>\n",
       "      <td>YOaTYVydeH4</td>\n",
       "      <td>Jenny Damm</td>\n",
       "      <td>Training a Tamas Traj course at Torvalla Arena...</td>\n",
       "      <td>No Description</td>\n",
       "      <td>0</td>\n",
       "      <td>2022-05-01 05:22:37</td>\n",
       "      <td>PT5M59S</td>\n",
       "      <td>hd</td>\n",
       "      <td>False</td>\n",
       "      <td>1247</td>\n",
       "      <td>22</td>\n",
       "      <td>0</td>\n",
       "      <td>0</td>\n",
       "      <td>Sunday</td>\n",
       "      <td>359.0</td>\n",
       "      <td>6</td>\n",
       "    </tr>\n",
       "    <tr>\n",
       "      <th>1</th>\n",
       "      <td>pFHvzNWqetU</td>\n",
       "      <td>Jenny Damm</td>\n",
       "      <td>Azta's four winning runs + final at Gåsahoppet...</td>\n",
       "      <td>No Description</td>\n",
       "      <td>0</td>\n",
       "      <td>2022-04-26 15:11:04</td>\n",
       "      <td>PT3M9S</td>\n",
       "      <td>hd</td>\n",
       "      <td>False</td>\n",
       "      <td>1302</td>\n",
       "      <td>27</td>\n",
       "      <td>0</td>\n",
       "      <td>1</td>\n",
       "      <td>Tuesday</td>\n",
       "      <td>189.0</td>\n",
       "      <td>3</td>\n",
       "    </tr>\n",
       "    <tr>\n",
       "      <th>2</th>\n",
       "      <td>5F5s9EsSaIs</td>\n",
       "      <td>Jenny Damm</td>\n",
       "      <td>Jocke course - Training with Azta &amp; Mailiz</td>\n",
       "      <td>No Description</td>\n",
       "      <td>0</td>\n",
       "      <td>2022-03-30 10:28:18</td>\n",
       "      <td>PT4M26S</td>\n",
       "      <td>hd</td>\n",
       "      <td>False</td>\n",
       "      <td>557</td>\n",
       "      <td>23</td>\n",
       "      <td>0</td>\n",
       "      <td>1</td>\n",
       "      <td>Wednesday</td>\n",
       "      <td>266.0</td>\n",
       "      <td>4</td>\n",
       "    </tr>\n",
       "    <tr>\n",
       "      <th>3</th>\n",
       "      <td>duX57XPjJJg</td>\n",
       "      <td>Jenny Damm</td>\n",
       "      <td>Mailiz trying my new course   Lotushallen 210315</td>\n",
       "      <td>No Description</td>\n",
       "      <td>0</td>\n",
       "      <td>2022-03-16 07:01:08</td>\n",
       "      <td>PT1M50S</td>\n",
       "      <td>hd</td>\n",
       "      <td>False</td>\n",
       "      <td>588</td>\n",
       "      <td>15</td>\n",
       "      <td>0</td>\n",
       "      <td>0</td>\n",
       "      <td>Wednesday</td>\n",
       "      <td>110.0</td>\n",
       "      <td>2</td>\n",
       "    </tr>\n",
       "    <tr>\n",
       "      <th>4</th>\n",
       "      <td>1YRoVzPLwpM</td>\n",
       "      <td>Jenny Damm</td>\n",
       "      <td>Lisa and My - RC training - soft turns, 220309</td>\n",
       "      <td>No Description</td>\n",
       "      <td>0</td>\n",
       "      <td>2022-03-10 22:17:25</td>\n",
       "      <td>PT3M24S</td>\n",
       "      <td>hd</td>\n",
       "      <td>False</td>\n",
       "      <td>419</td>\n",
       "      <td>14</td>\n",
       "      <td>0</td>\n",
       "      <td>3</td>\n",
       "      <td>Thursday</td>\n",
       "      <td>204.0</td>\n",
       "      <td>3</td>\n",
       "    </tr>\n",
       "  </tbody>\n",
       "</table>\n",
       "</div>"
      ],
      "text/plain": [
       "      video_id channelTitle  \\\n",
       "0  YOaTYVydeH4   Jenny Damm   \n",
       "1  pFHvzNWqetU   Jenny Damm   \n",
       "2  5F5s9EsSaIs   Jenny Damm   \n",
       "3  duX57XPjJJg   Jenny Damm   \n",
       "4  1YRoVzPLwpM   Jenny Damm   \n",
       "\n",
       "                                               title     description tags  \\\n",
       "0  Training a Tamas Traj course at Torvalla Arena...  No Description    0   \n",
       "1  Azta's four winning runs + final at Gåsahoppet...  No Description    0   \n",
       "2         Jocke course - Training with Azta & Mailiz  No Description    0   \n",
       "3   Mailiz trying my new course   Lotushallen 210315  No Description    0   \n",
       "4     Lisa and My - RC training - soft turns, 220309  No Description    0   \n",
       "\n",
       "          publishedAt duration definition  caption  viewCount  likeCount  \\\n",
       "0 2022-05-01 05:22:37  PT5M59S         hd    False       1247         22   \n",
       "1 2022-04-26 15:11:04   PT3M9S         hd    False       1302         27   \n",
       "2 2022-03-30 10:28:18  PT4M26S         hd    False        557         23   \n",
       "3 2022-03-16 07:01:08  PT1M50S         hd    False        588         15   \n",
       "4 2022-03-10 22:17:25  PT3M24S         hd    False        419         14   \n",
       "\n",
       "   favoriteCount  commentCount publishedDay  duration_sec  duration_min  \n",
       "0              0             0       Sunday         359.0             6  \n",
       "1              0             1      Tuesday         189.0             3  \n",
       "2              0             1    Wednesday         266.0             4  \n",
       "3              0             0    Wednesday         110.0             2  \n",
       "4              0             3     Thursday         204.0             3  "
      ]
     },
     "execution_count": 84,
     "metadata": {},
     "output_type": "execute_result"
    }
   ],
   "source": [
    "df.head(5)"
   ]
  },
  {
   "cell_type": "code",
   "execution_count": 85,
   "id": "28f37478-0932-4a8e-8fc9-06aa617fb051",
   "metadata": {},
   "outputs": [
    {
     "name": "stdout",
     "output_type": "stream",
     "text": [
      "<class 'pandas.core.frame.DataFrame'>\n",
      "RangeIndex: 3698 entries, 0 to 3697\n",
      "Data columns (total 16 columns):\n",
      " #   Column         Non-Null Count  Dtype         \n",
      "---  ------         --------------  -----         \n",
      " 0   video_id       3698 non-null   object        \n",
      " 1   channelTitle   3698 non-null   object        \n",
      " 2   title          3698 non-null   object        \n",
      " 3   description    3698 non-null   object        \n",
      " 4   tags           3698 non-null   object        \n",
      " 5   publishedAt    3698 non-null   datetime64[ns]\n",
      " 6   duration       3698 non-null   object        \n",
      " 7   definition     3698 non-null   object        \n",
      " 8   caption        3698 non-null   bool          \n",
      " 9   viewCount      3698 non-null   int64         \n",
      " 10  likeCount      3698 non-null   int64         \n",
      " 11  favoriteCount  3698 non-null   int64         \n",
      " 12  commentCount   3698 non-null   int64         \n",
      " 13  publishedDay   3698 non-null   object        \n",
      " 14  duration_sec   3698 non-null   float64       \n",
      " 15  duration_min   3698 non-null   int64         \n",
      "dtypes: bool(1), datetime64[ns](1), float64(1), int64(5), object(8)\n",
      "memory usage: 437.1+ KB\n"
     ]
    }
   ],
   "source": [
    "df.info()"
   ]
  },
  {
   "cell_type": "code",
   "execution_count": 87,
   "id": "4ac46627-4897-49fc-8b97-e044fc28719b",
   "metadata": {},
   "outputs": [],
   "source": [
    "#feature engineering\n",
    "#need to count number of tags\n",
    "#no. of likes and comments per views (1000) maybe\n",
    "#title character length\n",
    "#popular words in title characters"
   ]
  },
  {
   "cell_type": "code",
   "execution_count": 88,
   "id": "eb0559f2-06c9-4ef8-a54b-a043905fc613",
   "metadata": {},
   "outputs": [],
   "source": [
    "#EDA part\n",
    "#view distribution in each channel\n",
    "#viewcount vs comment/like\n",
    "#view to comment ratio or view to like ratio\n",
    "#video duration matter?\n",
    "#title length matter?\n",
    "#wordcloud for title\n",
    "#worldcloud for comment\n",
    "#no. of tags - popular tags?\n",
    "#days in week - note the timezone\n",
    "#month ?\n",
    "\n",
    "#things to note\n",
    "#add more local channels\n",
    "#positive comments? correlation of comments and title to say which topic is in demand\n",
    "\n",
    "#can I create a video title suggestion model ?"
   ]
  }
 ],
 "metadata": {
  "kernelspec": {
   "display_name": "Python 3 (ipykernel)",
   "language": "python",
   "name": "python3"
  },
  "language_info": {
   "codemirror_mode": {
    "name": "ipython",
    "version": 3
   },
   "file_extension": ".py",
   "mimetype": "text/x-python",
   "name": "python",
   "nbconvert_exporter": "python",
   "pygments_lexer": "ipython3",
   "version": "3.9.12"
  }
 },
 "nbformat": 4,
 "nbformat_minor": 5
}
